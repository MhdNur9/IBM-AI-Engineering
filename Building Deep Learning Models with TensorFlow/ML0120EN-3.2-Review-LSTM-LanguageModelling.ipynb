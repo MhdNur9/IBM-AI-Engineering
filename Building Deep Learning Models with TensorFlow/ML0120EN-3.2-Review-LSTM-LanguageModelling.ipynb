{
 "cells": [
  {
   "cell_type": "markdown",
   "metadata": {},
   "source": [
    "<img src=\"https://cf-courses-data.s3.us.cloud-object-storage.appdomain.cloud/IBMDeveloperSkillsNetwork-DL0120EN-SkillsNetwork/images/IDSN-logo.png\" width=\"300\" alt=\"cognitiveclass.ai logo\">\n",
    "\n",
    "<h1 align=\"center\"><font size=\"5\">RECURRENT NETWORKS and LSTM IN DEEP LEARNING</font></h1>\n"
   ]
  },
  {
   "cell_type": "markdown",
   "metadata": {},
   "source": [
    "Estimated time needed: **30** minutes\n"
   ]
  },
  {
   "cell_type": "markdown",
   "metadata": {},
   "source": [
    "<h2>Applying Recurrent Neural Networks/LSTM for Language Modeling</h2>\n",
    "Hello and welcome to this part. In this notebook, we will go over the topic of Language Modelling, and create a Recurrent Neural Network model based on the Long Short-Term Memory unit to train and benchmark on the Penn Treebank dataset. By the end of this notebook, you should be able to understand how TensorFlow builds and executes a RNN model for Language Modelling.\n"
   ]
  },
  {
   "cell_type": "markdown",
   "metadata": {},
   "source": [
    "<h2>The Objective</h2>\n",
    "By now, you should have an understanding of how Recurrent Networks work -- a specialized model to process sequential data by keeping track of the \"state\" or context. In this notebook, we go over a TensorFlow code snippet for creating a model focused on <b>Language Modelling</b> -- a very relevant task that is the cornerstone of many different linguistic problems such as <b>Speech Recognition, Machine Translation and Image Captioning</b>. For this, we will be using the Penn Treebank dataset, which is an often-used dataset for benchmarking Language Modelling models.\n"
   ]
  },
  {
   "cell_type": "markdown",
   "metadata": {},
   "source": [
    "\n",
    "<h2>Table of Contents</h2>\n",
    "<ol>\n",
    "    <li><a href=\"#language_modelling\">What exactly is Language Modelling?</a></li>\n",
    "    <li><a href=\"#treebank_dataset\">The Penn Treebank dataset</a></li>\n",
    "    <li><a href=\"#word_embedding\">Word Embedding</a></li>\n",
    "    <li><a href=\"#building_lstm_model\">Building the LSTM model for Language Modeling</a></li>\n",
    "    <li><a href=\"#ltsm\">LTSM</a></li>\n",
    "</ol>\n",
    "<p></p>\n",
    "</div>\n",
    "<br>\n"
   ]
  },
  {
   "cell_type": "markdown",
   "metadata": {},
   "source": [
    "--------\n"
   ]
  },
  {
   "cell_type": "markdown",
   "metadata": {},
   "source": [
    "<a id=\"language_modelling\"></a>\n",
    "<h2>What exactly is Language Modelling?</h2>\n",
    "Language Modelling, to put it simply, <b>is the task of assigning probabilities to sequences of words</b>. This means that, given a context of one or a sequence of words in the language the model was trained on, the model should provide the next most probable words or sequence of words that follows from the given sequence of words the sentence. Language Modelling is one of the most important tasks in Natural Language Processing.\n",
    "\n",
    "<img src=\"https://ibm.box.com/shared/static/1d1i5gub6wljby2vani2vzxp0xsph702.png\" width=\"1080\">\n",
    "<center><i>Example of a sentence being predicted</i></center>\n",
    "<br><br>\n",
    "In this example, one can see the predictions for the next word of a sentence, given the context \"This is an\". As you can see, this boils down to a sequential data analysis task -- you are given a word or a sequence of words (the input data), and, given the context (the state), you need to find out what is the next word (the prediction). This kind of analysis is very important for language-related tasks such as <b>Speech Recognition, Machine Translation, Image Captioning, Text Correction</b> and many other very relevant problems. \n",
    "\n",
    "<img src=\"https://ibm.box.com/shared/static/az39idf9ipfdpc5ugifpgxnydelhyf3i.png\" width=\"1080\">\n",
    "<center><i>The above example is a schema of an RNN in execution</i></center>\n",
    "<br><br>\n",
    "As the above image shows, Recurrent Network models fit this problem like a glove. Alongside LSTM and its capacity to maintain the model's state for over one thousand time steps, we have all the tools we need to undertake this problem. The goal for this notebook is to create a model that can reach <b>low levels of perplexity</b> on our desired dataset.\n",
    "\n",
    "For Language Modelling problems, <b>perplexity</b> is the way to gauge efficiency. Perplexity is simply a measure of how well a probabilistic model is able to predict its sample. A higher-level way to explain this would be saying that <b>low perplexity means a higher degree of trust in the predictions the model makes</b>. Therefore, the lower perplexity is, the better.\n"
   ]
  },
  {
   "cell_type": "markdown",
   "metadata": {},
   "source": [
    "<a id=\"treebank_dataset\"></a>\n",
    "<h2>The Penn Treebank dataset</h2>\n",
    "Historically, datasets big enough for Natural Language Processing are hard to come by. This is in part due to the necessity of the sentences to be broken down and tagged with a certain degree of correctness -- or else the models trained on it won't be able to be correct at all. This means that we need a <b>large amount of data, annotated by or at least corrected by humans</b>. This is, of course, not an easy task at all.\n",
    "\n",
    "The Penn Treebank, or PTB for short, is a dataset maintained by the University of Pennsylvania. It is <i>huge</i> -- there are over <b>four million and eight hundred thousand</b> annotated words in it, all corrected by humans. It is composed of many different sources, from abstracts of Department of Energy papers to texts from the Library of America. Since it is verifiably correct and of such a huge size, the Penn Treebank is commonly used as a benchmark dataset for Language Modelling.\n",
    "\n",
    "The dataset is divided in different kinds of annotations, such as Piece-of-Speech, Syntactic and Semantic skeletons. For this example, we will simply use a sample of clean, non-annotated words (with the exception of one tag --<code>&lt;unk&gt;</code>\n",
    ", which is used for rare words such as uncommon proper nouns) for our model. This means that we just want to predict what the next words would be, not what they mean in context or their classes on a given sentence.\n",
    "\n",
    "<center>Example of text from the dataset we are going to use, <b>ptb.train</b></center>\n",
    "<br><br>\n",
    "\n",
    "<div class=\"alert alert-block alert-info\" style=\"margin-top: 20px\">\n",
    "    <center>the percentage of lung cancer deaths among the workers at the west <code>&lt;unk&gt;</code> mass. paper factory appears to be the highest for any asbestos workers studied in western industrialized countries he said \n",
    " the plant which is owned by <code>&lt;unk&gt;</code> & <code>&lt;unk&gt;</code> co. was under contract with <code>&lt;unk&gt;</code> to make the cigarette filters \n",
    " the finding probably will support those who argue that the U.S. should regulate the class of asbestos including <code>&lt;unk&gt;</code> more <code>&lt;unk&gt;</code> than the common kind of asbestos <code>&lt;unk&gt;</code> found in most schools and other buildings dr. <code>&lt;unk&gt;</code> said</center>\n",
    "</div>\n"
   ]
  },
  {
   "cell_type": "markdown",
   "metadata": {},
   "source": [
    "<a id=\"word_embedding\"></a>\n",
    "<h2>Word Embeddings</h2><br/>\n",
    "\n",
    "For better processing, in this example, we will make use of <a href=\"https://www.tensorflow.org/tutorials/word2vec/?utm_medium=Exinfluencer&utm_source=Exinfluencer&utm_content=000026UJ&utm_term=10006555&utm_id=NA-SkillsNetwork-Channel-SkillsNetworkCoursesIBMDeveloperSkillsNetworkDL0120ENSkillsNetwork954-2023-01-01\"><b>word embeddings</b></a>, which is <b>a way of representing sentence structures or words as n-dimensional vectors (where n is a reasonably high number, such as 200 or 500) of real numbers</b>. Basically, we will assign each word a randomly-initialized vector, and input those into the network to be processed. After a number of iterations, these vectors are expected to assume values that help the network to correctly predict what it needs to -- in our case, the probable next word in the sentence. This is shown to be a very effective task in Natural Language Processing, and is a commonplace practice.\n",
    "<br><br>\n",
    "<font size=\"4\"><strong>\n",
    "$$Vec(\"Example\") = [0.02, 0.00, 0.00, 0.92, 0.30, \\ldots]$$\n",
    "</strong></font>\n",
    "<br>\n",
    "Word Embedding tends to group up similarly used words <i>reasonably</i> close together in the vectorial space. For example, if we use T-SNE (a dimensional reduction visualization algorithm) to flatten the dimensions of our vectors into a 2-dimensional space and plot these words in a 2-dimensional space, we might see something like this:\n",
    "\n",
    "<img src=\"https://ibm.box.com/shared/static/bqhc5dg879gcoabzhxra1w8rkg3od1cu.png\" width=\"800\">\n",
    "<center><i>T-SNE Mockup with clusters marked for easier visualization</i></center>\n",
    "<br><br>\n",
    "As you can see, words that are frequently used together, in place of each other, or in the same places as them tend to be grouped together -- being closer together the higher they are correlated. For example, \"None\" is pretty semantically close to \"Zero\", while a phrase that uses \"Italy\", you could probably also fit \"Germany\" in it, with little damage to the sentence structure. The vectorial \"closeness\" for similar words like this is a great indicator of a well-built model.\n",
    "\n",
    "<hr>\n",
    " \n"
   ]
  },
  {
   "cell_type": "markdown",
   "metadata": {},
   "source": [
    "We need to import the necessary modules for our code. We need <b><code>numpy</code></b> and <b><code>tensorflow</code></b>, obviously. Additionally, we can import directly the <b><code>tensorflow.models.rnn</code></b> model, which includes the function for building RNNs, and <b><code>tensorflow.models.rnn.ptb.reader</code></b> which is the helper module for getting the input data from the dataset we just downloaded.\n",
    "\n",
    "If you want to learn more take a look at https://github.com/tensorflow/models/blob/master/tutorials/rnn/ptb/reader.py\n"
   ]
  },
  {
   "cell_type": "code",
   "execution_count": 20,
   "metadata": {},
   "outputs": [
    {
     "name": "stdout",
     "output_type": "stream",
     "text": [
      "Requirement already satisfied: tensorflow==2.9.0 in /home/jupyterlab/conda/envs/python/lib/python3.7/site-packages (2.9.0)\n",
      "Requirement already satisfied: absl-py>=1.0.0 in /home/jupyterlab/conda/envs/python/lib/python3.7/site-packages (from tensorflow==2.9.0) (1.4.0)\n",
      "Requirement already satisfied: astunparse>=1.6.0 in /home/jupyterlab/conda/envs/python/lib/python3.7/site-packages (from tensorflow==2.9.0) (1.6.3)\n",
      "Requirement already satisfied: flatbuffers<2,>=1.12 in /home/jupyterlab/conda/envs/python/lib/python3.7/site-packages (from tensorflow==2.9.0) (1.12)\n",
      "Requirement already satisfied: gast<=0.4.0,>=0.2.1 in /home/jupyterlab/conda/envs/python/lib/python3.7/site-packages (from tensorflow==2.9.0) (0.4.0)\n",
      "Requirement already satisfied: google-pasta>=0.1.1 in /home/jupyterlab/conda/envs/python/lib/python3.7/site-packages (from tensorflow==2.9.0) (0.2.0)\n",
      "Requirement already satisfied: grpcio<2.0,>=1.24.3 in /home/jupyterlab/conda/envs/python/lib/python3.7/site-packages (from tensorflow==2.9.0) (1.24.3)\n",
      "Requirement already satisfied: h5py>=2.9.0 in /home/jupyterlab/conda/envs/python/lib/python3.7/site-packages (from tensorflow==2.9.0) (3.8.0)\n",
      "Requirement already satisfied: keras<2.10.0,>=2.9.0rc0 in /home/jupyterlab/conda/envs/python/lib/python3.7/site-packages (from tensorflow==2.9.0) (2.9.0)\n",
      "Requirement already satisfied: keras-preprocessing>=1.1.1 in /home/jupyterlab/conda/envs/python/lib/python3.7/site-packages (from tensorflow==2.9.0) (1.1.2)\n",
      "Requirement already satisfied: libclang>=13.0.0 in /home/jupyterlab/conda/envs/python/lib/python3.7/site-packages (from tensorflow==2.9.0) (16.0.0)\n",
      "Requirement already satisfied: numpy>=1.20 in /home/jupyterlab/conda/envs/python/lib/python3.7/site-packages (from tensorflow==2.9.0) (1.21.4)\n",
      "Requirement already satisfied: opt-einsum>=2.3.2 in /home/jupyterlab/conda/envs/python/lib/python3.7/site-packages (from tensorflow==2.9.0) (3.3.0)\n",
      "Requirement already satisfied: packaging in /home/jupyterlab/conda/envs/python/lib/python3.7/site-packages (from tensorflow==2.9.0) (23.1)\n",
      "Requirement already satisfied: protobuf>=3.9.2 in /home/jupyterlab/conda/envs/python/lib/python3.7/site-packages (from tensorflow==2.9.0) (3.19.6)\n",
      "Requirement already satisfied: setuptools in /home/jupyterlab/conda/envs/python/lib/python3.7/site-packages (from tensorflow==2.9.0) (67.7.2)\n",
      "Requirement already satisfied: six>=1.12.0 in /home/jupyterlab/conda/envs/python/lib/python3.7/site-packages (from tensorflow==2.9.0) (1.16.0)\n",
      "Requirement already satisfied: tensorboard<2.10,>=2.9 in /home/jupyterlab/conda/envs/python/lib/python3.7/site-packages (from tensorflow==2.9.0) (2.9.1)\n",
      "Requirement already satisfied: tensorflow-io-gcs-filesystem>=0.23.1 in /home/jupyterlab/conda/envs/python/lib/python3.7/site-packages (from tensorflow==2.9.0) (0.32.0)\n",
      "Requirement already satisfied: tensorflow-estimator<2.10.0,>=2.9.0rc0 in /home/jupyterlab/conda/envs/python/lib/python3.7/site-packages (from tensorflow==2.9.0) (2.9.0)\n",
      "Requirement already satisfied: termcolor>=1.1.0 in /home/jupyterlab/conda/envs/python/lib/python3.7/site-packages (from tensorflow==2.9.0) (2.3.0)\n",
      "Requirement already satisfied: typing-extensions>=3.6.6 in /home/jupyterlab/conda/envs/python/lib/python3.7/site-packages (from tensorflow==2.9.0) (4.5.0)\n",
      "Requirement already satisfied: wrapt>=1.11.0 in /home/jupyterlab/conda/envs/python/lib/python3.7/site-packages (from tensorflow==2.9.0) (1.14.1)\n",
      "Requirement already satisfied: wheel<1.0,>=0.23.0 in /home/jupyterlab/conda/envs/python/lib/python3.7/site-packages (from astunparse>=1.6.0->tensorflow==2.9.0) (0.40.0)\n",
      "Requirement already satisfied: google-auth<3,>=1.6.3 in /home/jupyterlab/conda/envs/python/lib/python3.7/site-packages (from tensorboard<2.10,>=2.9->tensorflow==2.9.0) (2.21.0)\n",
      "Requirement already satisfied: google-auth-oauthlib<0.5,>=0.4.1 in /home/jupyterlab/conda/envs/python/lib/python3.7/site-packages (from tensorboard<2.10,>=2.9->tensorflow==2.9.0) (0.4.6)\n",
      "Requirement already satisfied: markdown>=2.6.8 in /home/jupyterlab/conda/envs/python/lib/python3.7/site-packages (from tensorboard<2.10,>=2.9->tensorflow==2.9.0) (3.4.3)\n",
      "Requirement already satisfied: requests<3,>=2.21.0 in /home/jupyterlab/conda/envs/python/lib/python3.7/site-packages (from tensorboard<2.10,>=2.9->tensorflow==2.9.0) (2.29.0)\n",
      "Requirement already satisfied: tensorboard-data-server<0.7.0,>=0.6.0 in /home/jupyterlab/conda/envs/python/lib/python3.7/site-packages (from tensorboard<2.10,>=2.9->tensorflow==2.9.0) (0.6.1)\n",
      "Requirement already satisfied: tensorboard-plugin-wit>=1.6.0 in /home/jupyterlab/conda/envs/python/lib/python3.7/site-packages (from tensorboard<2.10,>=2.9->tensorflow==2.9.0) (1.8.1)\n",
      "Requirement already satisfied: werkzeug>=1.0.1 in /home/jupyterlab/conda/envs/python/lib/python3.7/site-packages (from tensorboard<2.10,>=2.9->tensorflow==2.9.0) (2.2.3)\n",
      "Requirement already satisfied: cachetools<6.0,>=2.0.0 in /home/jupyterlab/conda/envs/python/lib/python3.7/site-packages (from google-auth<3,>=1.6.3->tensorboard<2.10,>=2.9->tensorflow==2.9.0) (5.3.1)\n",
      "Requirement already satisfied: pyasn1-modules>=0.2.1 in /home/jupyterlab/conda/envs/python/lib/python3.7/site-packages (from google-auth<3,>=1.6.3->tensorboard<2.10,>=2.9->tensorflow==2.9.0) (0.3.0)\n",
      "Requirement already satisfied: rsa<5,>=3.1.4 in /home/jupyterlab/conda/envs/python/lib/python3.7/site-packages (from google-auth<3,>=1.6.3->tensorboard<2.10,>=2.9->tensorflow==2.9.0) (4.9)\n",
      "Requirement already satisfied: urllib3<2.0 in /home/jupyterlab/conda/envs/python/lib/python3.7/site-packages (from google-auth<3,>=1.6.3->tensorboard<2.10,>=2.9->tensorflow==2.9.0) (1.26.15)\n",
      "Requirement already satisfied: requests-oauthlib>=0.7.0 in /home/jupyterlab/conda/envs/python/lib/python3.7/site-packages (from google-auth-oauthlib<0.5,>=0.4.1->tensorboard<2.10,>=2.9->tensorflow==2.9.0) (1.3.1)\n",
      "Requirement already satisfied: importlib-metadata>=4.4 in /home/jupyterlab/conda/envs/python/lib/python3.7/site-packages (from markdown>=2.6.8->tensorboard<2.10,>=2.9->tensorflow==2.9.0) (4.11.4)\n",
      "Requirement already satisfied: charset-normalizer<4,>=2 in /home/jupyterlab/conda/envs/python/lib/python3.7/site-packages (from requests<3,>=2.21.0->tensorboard<2.10,>=2.9->tensorflow==2.9.0) (3.1.0)\n",
      "Requirement already satisfied: idna<4,>=2.5 in /home/jupyterlab/conda/envs/python/lib/python3.7/site-packages (from requests<3,>=2.21.0->tensorboard<2.10,>=2.9->tensorflow==2.9.0) (3.4)\n",
      "Requirement already satisfied: certifi>=2017.4.17 in /home/jupyterlab/conda/envs/python/lib/python3.7/site-packages (from requests<3,>=2.21.0->tensorboard<2.10,>=2.9->tensorflow==2.9.0) (2023.5.7)\n",
      "Requirement already satisfied: MarkupSafe>=2.1.1 in /home/jupyterlab/conda/envs/python/lib/python3.7/site-packages (from werkzeug>=1.0.1->tensorboard<2.10,>=2.9->tensorflow==2.9.0) (2.1.1)\n",
      "Requirement already satisfied: zipp>=0.5 in /home/jupyterlab/conda/envs/python/lib/python3.7/site-packages (from importlib-metadata>=4.4->markdown>=2.6.8->tensorboard<2.10,>=2.9->tensorflow==2.9.0) (3.15.0)\n",
      "Requirement already satisfied: pyasn1<0.6.0,>=0.4.6 in /home/jupyterlab/conda/envs/python/lib/python3.7/site-packages (from pyasn1-modules>=0.2.1->google-auth<3,>=1.6.3->tensorboard<2.10,>=2.9->tensorflow==2.9.0) (0.5.0)\n",
      "Requirement already satisfied: oauthlib>=3.0.0 in /home/jupyterlab/conda/envs/python/lib/python3.7/site-packages (from requests-oauthlib>=0.7.0->google-auth-oauthlib<0.5,>=0.4.1->tensorboard<2.10,>=2.9->tensorflow==2.9.0) (3.2.2)\n",
      "Requirement already satisfied: numpy==1.21.4 in /home/jupyterlab/conda/envs/python/lib/python3.7/site-packages (1.21.4)\n"
     ]
    }
   ],
   "source": [
    "!pip install tensorflow==2.9.0\n",
    "!pip install numpy==1.21.4\n"
   ]
  },
  {
   "cell_type": "code",
   "execution_count": 21,
   "metadata": {},
   "outputs": [],
   "source": [
    "import time\n",
    "import numpy as np\n",
    "import tensorflow as tf\n",
    "if not tf.__version__ == '2.9.0':\n",
    "    print(tf.__version__)\n",
    "    raise ValueError('please upgrade to TensorFlow 2.9.0, or restart your Kernel (Kernel->Restart & Clear Output)')"
   ]
  },
  {
   "cell_type": "markdown",
   "metadata": {},
   "source": [
    "IMPORTANT! => Please restart the kernel by clicking on \"Kernel\"->\"Restart and Clear Outout\" and wait until all output disapears. Then your changes are beeing picked up\n"
   ]
  },
  {
   "cell_type": "code",
   "execution_count": 22,
   "metadata": {},
   "outputs": [
    {
     "name": "stdout",
     "output_type": "stream",
     "text": [
      "mkdir: cannot create directory ‘data’: File exists\n",
      "mkdir: cannot create directory ‘data/ptb’: File exists\n"
     ]
    }
   ],
   "source": [
    "!mkdir data\n",
    "!mkdir data/ptb\n",
    "!wget -q -O data/ptb/reader.py https://cf-courses-data.s3.us.cloud-object-storage.appdomain.cloud/IBMDeveloperSkillsNetwork-DL0120EN-SkillsNetwork/labs/Week3/data/ptb/reader.py\n",
    "!cp data/ptb/reader.py .\n",
    "\n"
   ]
  },
  {
   "cell_type": "code",
   "execution_count": 23,
   "metadata": {},
   "outputs": [],
   "source": [
    "# Copyright 2015 The TensorFlow Authors. All Rights Reserved.\n",
    "#\n",
    "# Licensed under the Apache License, Version 2.0 (the \"License\");\n",
    "# you may not use this file except in compliance with the License.\n",
    "# You may obtain a copy of the License at\n",
    "#\n",
    "#     http://www.apache.org/licenses/LICENSE-2.0\n",
    "#\n",
    "# Unless required by applicable law or agreed to in writing, software\n",
    "# distributed under the License is distributed on an \"AS IS\" BASIS,\n",
    "# WITHOUT WARRANTIES OR CONDITIONS OF ANY KIND, either express or implied.\n",
    "# See the License for the specific language governing permissions and\n",
    "# limitations under the License.\n",
    "# ==============================================================================\n",
    "\n",
    "\n",
    "\"\"\"Utilities for parsing PTB text files.\"\"\"\n",
    "from __future__ import absolute_import\n",
    "from __future__ import division\n",
    "from __future__ import print_function\n",
    "\n",
    "import collections\n",
    "import os\n",
    "\n",
    "import numpy as np\n",
    "import tensorflow as tf\n",
    "\n",
    "\n",
    "def _read_words(filename):\n",
    "  with tf.io.gfile.GFile(filename, \"r\") as f:\n",
    "    return f.read().replace(\"\\n\", \"<eos>\").split()\n",
    "\n",
    "\n",
    "def _build_vocab(filename):\n",
    "  data = _read_words(filename)\n",
    "\n",
    "  counter = collections.Counter(data)\n",
    "  count_pairs = sorted(counter.items(), key=lambda x: (-x[1], x[0]))\n",
    "\n",
    "  words, _ = list(zip(*count_pairs))\n",
    "  word_to_id = dict(zip(words, range(len(words))))\n",
    "\n",
    "  return word_to_id\n",
    "\n",
    "\n",
    "def _file_to_word_ids(filename, word_to_id):\n",
    "  data = _read_words(filename)\n",
    "  return [word_to_id[word] for word in data if word in word_to_id]\n",
    "\n",
    "\n",
    "def ptb_raw_data(data_path=None):\n",
    "  \"\"\"Load PTB raw data from data directory \"data_path\".\n",
    "\n",
    "  Reads PTB text files, converts strings to integer ids,\n",
    "  and performs mini-batching of the inputs.\n",
    "\n",
    "  The PTB dataset comes from Tomas Mikolov's webpage:\n",
    "\n",
    "  http://www.fit.vutbr.cz/~imikolov/rnnlm/simple-examples.tgz\n",
    "\n",
    "  Args:\n",
    "    data_path: string path to the directory where simple-examples.tgz has\n",
    "      been extracted.\n",
    "\n",
    "  Returns:\n",
    "    tuple (train_data, valid_data, test_data, vocabulary)\n",
    "    where each of the data objects can be passed to PTBIterator.\n",
    "  \"\"\"\n",
    "\n",
    "  train_path = os.path.join(data_path, \"ptb.train.txt\")\n",
    "  valid_path = os.path.join(data_path, \"ptb.valid.txt\")\n",
    "  test_path = os.path.join(data_path, \"ptb.test.txt\")\n",
    "\n",
    "  word_to_id = _build_vocab(train_path)\n",
    "  train_data = _file_to_word_ids(train_path, word_to_id)\n",
    "  valid_data = _file_to_word_ids(valid_path, word_to_id)\n",
    "  test_data = _file_to_word_ids(test_path, word_to_id)\n",
    "  vocabulary = len(word_to_id)\n",
    "  return train_data, valid_data, test_data, vocabulary, word_to_id\n",
    "\n",
    "\n",
    "def ptb_iterator(raw_data, batch_size, num_steps):\n",
    "  \"\"\"Iterate on the raw PTB data.\n",
    "\n",
    "  This generates batch_size pointers into the raw PTB data, and allows\n",
    "  minibatch iteration along these pointers.\n",
    "\n",
    "  Args:\n",
    "    raw_data: one of the raw data outputs from ptb_raw_data.\n",
    "    batch_size: int, the batch size.\n",
    "    num_steps: int, the number of unrolls.\n",
    "\n",
    "  Yields:\n",
    "    Pairs of the batched data, each a matrix of shape [batch_size, num_steps].\n",
    "    The second element of the tuple is the same data time-shifted to the\n",
    "    right by one.\n",
    "\n",
    "  Raises:\n",
    "    ValueError: if batch_size or num_steps are too high.\n",
    "  \"\"\"\n",
    "  raw_data = np.array(raw_data, dtype=np.int32)\n",
    "\n",
    "  data_len = len(raw_data)\n",
    "  batch_len = data_len // batch_size\n",
    "  data = np.zeros([batch_size, batch_len], dtype=np.int32)\n",
    "  for i in range(batch_size):\n",
    "    data[i] = raw_data[batch_len * i:batch_len * (i + 1)]\n",
    "\n",
    "  epoch_size = (batch_len - 1) // num_steps\n",
    "\n",
    "  if epoch_size == 0:\n",
    "    raise ValueError(\"epoch_size == 0, decrease batch_size or num_steps\")\n",
    "\n",
    "  for i in range(epoch_size):\n",
    "    x = data[:, i*num_steps:(i+1)*num_steps]\n",
    "    y = data[:, i*num_steps+1:(i+1)*num_steps+1]\n",
    "    yield (x, y)"
   ]
  },
  {
   "cell_type": "markdown",
   "metadata": {},
   "source": [
    "<a id=\"building_lstm_model\"></a>\n",
    "<h2>Building the LSTM model for Language Modeling</h2>\n",
    "Now that we know exactly what we are doing, we can start building our model using TensorFlow. The very first thing we need to do is download and extract the <code>simple-examples</code> dataset, which can be done by executing the code cell below.\n"
   ]
  },
  {
   "cell_type": "code",
   "execution_count": 24,
   "metadata": {},
   "outputs": [
    {
     "name": "stdout",
     "output_type": "stream",
     "text": [
      "--2023-07-05 13:42:58--  http://www.fit.vutbr.cz/~imikolov/rnnlm/simple-examples.tgz\n",
      "Resolving www.fit.vutbr.cz (www.fit.vutbr.cz)... 147.229.9.23, 2001:67c:1220:809::93e5:917\n",
      "Connecting to www.fit.vutbr.cz (www.fit.vutbr.cz)|147.229.9.23|:80... connected.\n",
      "HTTP request sent, awaiting response... 200 OK\n",
      "Length: 34869662 (33M) [application/x-gtar]\n",
      "Saving to: ‘simple-examples.tgz.4’\n",
      "\n",
      "simple-examples.tgz 100%[===================>]  33.25M  8.78MB/s    in 4.0s    \n",
      "\n",
      "2023-07-05 13:43:03 (8.38 MB/s) - ‘simple-examples.tgz.4’ saved [34869662/34869662]\n",
      "\n"
     ]
    }
   ],
   "source": [
    "!wget http://www.fit.vutbr.cz/~imikolov/rnnlm/simple-examples.tgz \n",
    "!tar xzf simple-examples.tgz -C data/"
   ]
  },
  {
   "cell_type": "markdown",
   "metadata": {},
   "source": [
    "Additionally, for the sake of making it easy to play around with the model's hyperparameters, we can declare them beforehand. Feel free to change these -- you will see a difference in performance each time you change those!  \n"
   ]
  },
  {
   "cell_type": "code",
   "execution_count": 25,
   "metadata": {},
   "outputs": [],
   "source": [
    "#Initial weight scale\n",
    "init_scale = 0.1\n",
    "#Initial learning rate\n",
    "learning_rate = 1.0\n",
    "#Maximum permissible norm for the gradient (For gradient clipping -- another measure against Exploding Gradients)\n",
    "max_grad_norm = 5\n",
    "#The number of layers in our model\n",
    "num_layers = 2\n",
    "#The total number of recurrence steps, also known as the number of layers when our RNN is \"unfolded\"\n",
    "num_steps = 20\n",
    "#The number of processing units (neurons) in the hidden layers\n",
    "hidden_size_l1 = 256\n",
    "hidden_size_l2 = 128\n",
    "#The maximum number of epochs trained with the initial learning rate\n",
    "max_epoch_decay_lr = 4\n",
    "#The total number of epochs in training\n",
    "max_epoch = 15\n",
    "#The probability for keeping data in the Dropout Layer (This is an optimization, but is outside our scope for this notebook!)\n",
    "#At 1, we ignore the Dropout Layer wrapping.\n",
    "keep_prob = 1\n",
    "#The decay for the learning rate\n",
    "decay = 0.5\n",
    "#The size for each batch of data\n",
    "batch_size = 30\n",
    "#The size of our vocabulary\n",
    "vocab_size = 10000\n",
    "embeding_vector_size= 200\n",
    "#Training flag to separate training from testing\n",
    "is_training = 1\n",
    "#Data directory for our dataset\n",
    "data_dir = \"data/simple-examples/data/\""
   ]
  },
  {
   "cell_type": "markdown",
   "metadata": {},
   "source": [
    "Some clarifications for LSTM architecture based on the arguments:\n",
    "\n",
    "Network structure:\n",
    "<ul>\n",
    "    <li>In this network, the number of LSTM cells are 2. To give the model more expressive power, we can add multiple layers of LSTMs to process the data. The output of the first layer will become the input of the second and so on.\n",
    "    </li>\n",
    "    <li>The recurrence steps is 20, that is, when our RNN is \"Unfolded\", the recurrence step is 20.</li>   \n",
    "    <li>the structure is like:\n",
    "        <ul>\n",
    "            <li>200 input units -> [200x200] Weight -> 200 Hidden units (first layer) -> [200x200] Weight matrix  -> 200 Hidden units (second layer) ->  [200] weight Matrix -> 200 unit output</li>\n",
    "        </ul>\n",
    "    </li>\n",
    "</ul>\n",
    "<br>\n",
    "\n",
    "Input layer: \n",
    "<ul>\n",
    "    <li>The network has 200 input units.</li>\n",
    "    <li>Suppose each word is represented by an embedding vector of dimensionality e=200. The input layer of each cell will have 200 linear units. These e=200 linear units are connected to each of the h=200 LSTM units in the hidden layer (assuming there is only one hidden layer, though our case has 2 layers).\n",
    "    </li>\n",
    "    <li>The input shape is [batch_size, num_steps], that is [30x20]. It will turn into [30x20x200] after embedding, and then 20x[30x200]\n",
    "    </li>\n",
    "</ul>\n",
    "<br>\n",
    "\n",
    "Hidden layer:\n",
    "<ul>\n",
    "    <li>Each LSTM has 200 hidden units which is equivalent to the dimensionality of the embedding words and output.</li>\n",
    "</ul>\n",
    "<br>\n"
   ]
  },
  {
   "cell_type": "markdown",
   "metadata": {},
   "source": [
    "There is a lot to be done and a ton of information to process at the same time, so go over this code slowly. It may seem complex at first, but if you try to apply what you just learned about language modelling to the code you see, you should be able to understand it.\n",
    "\n",
    "This code is adapted from the <a href=\"https://github.com/tensorflow/models\">PTBModel</a> example bundled with the TensorFlow source code.\n",
    "\n",
    "\n",
    "<h3>Training data</h3>\n",
    "The story starts from data:\n",
    "<ul>\n",
    "    <li>Train data is a list of words, of size 929589, represented by numbers, e.g. [9971, 9972, 9974, 9975,...]</li>\n",
    "    <li>We read data as mini-batch of size b=30. Assume the size of each sentence is 20 words (num_steps = 20). Then it will take $$floor(\\frac{N}{b \\times h})+1=1548$$ iterations for the learner to go through all sentences once. Where N is the size of the list of words, b is batch size, and h is size of each sentence. So, the number of iterators is 1548\n",
    "    </li>\n",
    "    <li>Each batch data is read from train dataset of size 600, and shape of [30x20]</li>\n",
    "</ul>\n"
   ]
  },
  {
   "cell_type": "code",
   "execution_count": 26,
   "metadata": {},
   "outputs": [],
   "source": [
    "# Reads the data and separates it into training data, validation data and testing data\n",
    "raw_data = ptb_raw_data(data_dir)\n",
    "train_data, valid_data, test_data, vocab, word_to_id = raw_data"
   ]
  },
  {
   "cell_type": "code",
   "execution_count": 27,
   "metadata": {},
   "outputs": [
    {
     "data": {
      "text/plain": [
       "929589"
      ]
     },
     "execution_count": 27,
     "metadata": {},
     "output_type": "execute_result"
    }
   ],
   "source": [
    "len(train_data)"
   ]
  },
  {
   "cell_type": "code",
   "execution_count": 28,
   "metadata": {},
   "outputs": [
    {
     "name": "stdout",
     "output_type": "stream",
     "text": [
      "['aer', 'banknote', 'berlitz', 'calloway', 'centrust', 'cluett', 'fromstein', 'gitano', 'guterman', 'hydro-quebec', 'ipo', 'kia', 'memotec', 'mlx', 'nahb', 'punts', 'rake', 'regatta', 'rubens', 'sim', 'snack-food', 'ssangyong', 'swapo', 'wachter', '<eos>', 'pierre', '<unk>', 'N', 'years', 'old', 'will', 'join', 'the', 'board', 'as', 'a', 'nonexecutive', 'director', 'nov.', 'N', '<eos>', 'mr.', '<unk>', 'is', 'chairman', 'of', '<unk>', 'n.v.', 'the', 'dutch', 'publishing', 'group', '<eos>', 'rudolph', '<unk>', 'N', 'years', 'old', 'and', 'former', 'chairman', 'of', 'consolidated', 'gold', 'fields', 'plc', 'was', 'named', 'a', 'nonexecutive', 'director', 'of', 'this', 'british', 'industrial', 'conglomerate', '<eos>', 'a', 'form', 'of', 'asbestos', 'once', 'used', 'to', 'make', 'kent', 'cigarette', 'filters', 'has', 'caused', 'a', 'high', 'percentage', 'of', 'cancer', 'deaths', 'among', 'a', 'group', 'of']\n"
     ]
    }
   ],
   "source": [
    "def id_to_word(id_list):\n",
    "    line = []\n",
    "    for w in id_list:\n",
    "        for word, wid in word_to_id.items():\n",
    "            if wid == w:\n",
    "                line.append(word)\n",
    "    return line            \n",
    "                \n",
    "\n",
    "print(id_to_word(train_data[0:100]))"
   ]
  },
  {
   "cell_type": "markdown",
   "metadata": {},
   "source": [
    "Lets just read one mini-batch now and feed our network:\n"
   ]
  },
  {
   "cell_type": "code",
   "execution_count": 29,
   "metadata": {},
   "outputs": [],
   "source": [
    "itera = ptb_iterator(train_data, batch_size, num_steps)\n",
    "first_touple = itera.__next__()\n",
    "_input_data = first_touple[0]\n",
    "_targets = first_touple[1]"
   ]
  },
  {
   "cell_type": "code",
   "execution_count": 30,
   "metadata": {},
   "outputs": [
    {
     "data": {
      "text/plain": [
       "(30, 20)"
      ]
     },
     "execution_count": 30,
     "metadata": {},
     "output_type": "execute_result"
    }
   ],
   "source": [
    "_input_data.shape"
   ]
  },
  {
   "cell_type": "code",
   "execution_count": 31,
   "metadata": {},
   "outputs": [
    {
     "data": {
      "text/plain": [
       "(30, 20)"
      ]
     },
     "execution_count": 31,
     "metadata": {},
     "output_type": "execute_result"
    }
   ],
   "source": [
    "_targets.shape"
   ]
  },
  {
   "cell_type": "markdown",
   "metadata": {},
   "source": [
    "Lets look at 3 sentences of our input x:\n"
   ]
  },
  {
   "cell_type": "code",
   "execution_count": 32,
   "metadata": {},
   "outputs": [
    {
     "data": {
      "text/plain": [
       "array([[9970, 9971, 9972, 9974, 9975, 9976, 9980, 9981, 9982, 9983, 9984,\n",
       "        9986, 9987, 9988, 9989, 9991, 9992, 9993, 9994, 9995],\n",
       "       [2654,    6,  334, 2886,    4,    1,  233,  711,  834,   11,  130,\n",
       "         123,    7,  514,    2,   63,   10,  514,    8,  605],\n",
       "       [   0, 1071,    4,    0,  185,   24,  368,   20,   31, 3109,  954,\n",
       "          12,    3,   21,    2, 2915,    2,   12,    3,   21]],\n",
       "      dtype=int32)"
      ]
     },
     "execution_count": 32,
     "metadata": {},
     "output_type": "execute_result"
    }
   ],
   "source": [
    "_input_data[0:3]"
   ]
  },
  {
   "cell_type": "code",
   "execution_count": 33,
   "metadata": {},
   "outputs": [
    {
     "name": "stdout",
     "output_type": "stream",
     "text": [
      "['aer', 'banknote', 'berlitz', 'calloway', 'centrust', 'cluett', 'fromstein', 'gitano', 'guterman', 'hydro-quebec', 'ipo', 'kia', 'memotec', 'mlx', 'nahb', 'punts', 'rake', 'regatta', 'rubens', 'sim']\n"
     ]
    }
   ],
   "source": [
    "print(id_to_word(_input_data[0,:]))"
   ]
  },
  {
   "cell_type": "markdown",
   "metadata": {},
   "source": [
    "<h3>Embeddings</h3>\n",
    "We have to convert the words in our dataset to vectors of numbers. The traditional approach is to use one-hot encoding method that is usually used for converting categorical values to numerical values. However, One-hot encoded vectors are high-dimensional, sparse and in a big dataset, computationally inefficient. So, we use word2vec approach. It is, in fact, a layer in our LSTM network, where the word IDs will be represented as a dense representation before feeding to the LSTM. \n",
    "\n",
    "The embedded vectors also get updated during the training process of the deep neural network.\n",
    "We create the embeddings for our input data. <b>embedding_vocab</b> is matrix of [10000x200] for all 10000 unique words.\n"
   ]
  },
  {
   "cell_type": "markdown",
   "metadata": {},
   "source": [
    "<b>embedding_lookup()</b> finds the embedded values for our batch of 30x20 words. It  goes to each row of <code>input_data</code>, and for each word in the row/sentence, finds the correspond vector in <code>embedding_dic<code>. <br>\n",
    "It creates a [30x20x200] tensor, so, the first element of <b>inputs</b> (the first sentence), is a matrix of 20x200, which each row of it, is vector representing a word in the sentence.\n"
   ]
  },
  {
   "cell_type": "code",
   "execution_count": 34,
   "metadata": {},
   "outputs": [],
   "source": [
    "embedding_layer = tf.keras.layers.Embedding(vocab_size, embeding_vector_size,batch_input_shape=(batch_size, num_steps),trainable=True,name=\"embedding_vocab\")  "
   ]
  },
  {
   "cell_type": "code",
   "execution_count": 35,
   "metadata": {},
   "outputs": [
    {
     "name": "stderr",
     "output_type": "stream",
     "text": [
      "2023-07-05 13:43:15.330371: W tensorflow/stream_executor/platform/default/dso_loader.cc:64] Could not load dynamic library 'libcuda.so.1'; dlerror: libcuda.so.1: cannot open shared object file: No such file or directory\n",
      "2023-07-05 13:43:15.330441: W tensorflow/stream_executor/cuda/cuda_driver.cc:269] failed call to cuInit: UNKNOWN ERROR (303)\n",
      "2023-07-05 13:43:15.330476: I tensorflow/stream_executor/cuda/cuda_diagnostics.cc:156] kernel driver does not appear to be running on this host (jupyterlab-engmohamadal): /proc/driver/nvidia/version does not exist\n",
      "2023-07-05 13:43:15.331052: I tensorflow/core/platform/cpu_feature_guard.cc:193] This TensorFlow binary is optimized with oneAPI Deep Neural Network Library (oneDNN) to use the following CPU instructions in performance-critical operations:  AVX2 AVX512F AVX512_VNNI FMA\n",
      "To enable them in other operations, rebuild TensorFlow with the appropriate compiler flags.\n"
     ]
    },
    {
     "data": {
      "text/plain": [
       "<tf.Tensor: shape=(30, 20, 200), dtype=float32, numpy=\n",
       "array([[[ 0.03147504, -0.01845032,  0.03878255, ...,  0.04606183,\n",
       "          0.04889483, -0.02990584],\n",
       "        [-0.03023139, -0.03539125,  0.02914928, ..., -0.00182136,\n",
       "         -0.01032848,  0.03073697],\n",
       "        [ 0.03807798,  0.04217042,  0.04788342, ...,  0.01302041,\n",
       "          0.01156756,  0.04477659],\n",
       "        ...,\n",
       "        [ 0.02636865,  0.03214229, -0.00904794, ..., -0.00830752,\n",
       "         -0.02041127,  0.01606745],\n",
       "        [ 0.00210406,  0.0433605 ,  0.010499  , ...,  0.01041025,\n",
       "          0.04535252, -0.02729836],\n",
       "        [ 0.00994868,  0.03798041,  0.018681  , ..., -0.03878482,\n",
       "         -0.01923533,  0.0044013 ]],\n",
       "\n",
       "       [[ 0.03530084, -0.029082  , -0.03871984, ...,  0.02519592,\n",
       "         -0.02445583,  0.01126564],\n",
       "        [-0.03788365, -0.03375428, -0.00283924, ..., -0.03014027,\n",
       "          0.02356973, -0.03153447],\n",
       "        [-0.03948879,  0.04568953, -0.04276668, ...,  0.02317977,\n",
       "         -0.02851574,  0.04945699],\n",
       "        ...,\n",
       "        [ 0.03923186, -0.02319455, -0.04403346, ..., -0.03162025,\n",
       "         -0.02128909,  0.03840662],\n",
       "        [ 0.00897689, -0.02344701, -0.03484522, ...,  0.00397824,\n",
       "         -0.01042966, -0.01782683],\n",
       "        [ 0.01339108, -0.00467079,  0.01748281, ...,  0.03084641,\n",
       "         -0.04459161,  0.01904837]],\n",
       "\n",
       "       [[ 0.03946996,  0.04182846, -0.03477939, ..., -0.01075456,\n",
       "         -0.02372775,  0.00712615],\n",
       "        [ 0.01524914,  0.02618531,  0.00077244, ...,  0.02761651,\n",
       "          0.02490972,  0.0479146 ],\n",
       "        [ 0.00513769, -0.04915342, -0.0479818 , ...,  0.02881204,\n",
       "         -0.02088188, -0.02888232],\n",
       "        ...,\n",
       "        [ 0.03418333, -0.01820797, -0.03497563, ..., -0.00401922,\n",
       "          0.00245385,  0.01896833],\n",
       "        [ 0.04997433, -0.00793173, -0.03874719, ...,  0.04326886,\n",
       "          0.03904573,  0.02314408],\n",
       "        [-0.01472949,  0.01574657,  0.00970684, ..., -0.0128038 ,\n",
       "         -0.03180897, -0.00243975]],\n",
       "\n",
       "       ...,\n",
       "\n",
       "       [[-0.04047149,  0.00831481, -0.0259024 , ..., -0.02850984,\n",
       "          0.03282547,  0.01914784],\n",
       "        [-0.02834661,  0.00301116,  0.04515591, ...,  0.01105821,\n",
       "         -0.01220615, -0.00096369],\n",
       "        [ 0.00425997, -0.02520131,  0.01913354, ..., -0.00995195,\n",
       "          0.04080982,  0.04830469],\n",
       "        ...,\n",
       "        [-0.00902513, -0.03156967,  0.01326284, ..., -0.01152867,\n",
       "          0.0486769 , -0.00916208],\n",
       "        [-0.00388402,  0.02966836,  0.01317603, ...,  0.00740715,\n",
       "         -0.0386411 , -0.04291822],\n",
       "        [ 0.00962185, -0.00616978, -0.01647786, ...,  0.0304314 ,\n",
       "          0.03243731, -0.01749162]],\n",
       "\n",
       "       [[-0.02796397,  0.01863617, -0.04746343, ..., -0.02643785,\n",
       "         -0.04042058,  0.03945715],\n",
       "        [ 0.00553231, -0.00538214, -0.02214187, ..., -0.04415227,\n",
       "          0.04175738, -0.00031118],\n",
       "        [ 0.00513769, -0.04915342, -0.0479818 , ...,  0.02881204,\n",
       "         -0.02088188, -0.02888232],\n",
       "        ...,\n",
       "        [ 0.04410615, -0.01743852,  0.02296389, ...,  0.04723363,\n",
       "          0.02438943, -0.02711815],\n",
       "        [-0.03788365, -0.03375428, -0.00283924, ..., -0.03014027,\n",
       "          0.02356973, -0.03153447],\n",
       "        [ 0.03616363, -0.02756052,  0.04397451, ...,  0.03578936,\n",
       "         -0.02577103,  0.04820037]],\n",
       "\n",
       "       [[ 0.00920809,  0.03498339,  0.00356675, ...,  0.00024898,\n",
       "         -0.00103099,  0.03754668],\n",
       "        [-0.03700701,  0.04141149,  0.04162507, ...,  0.03442026,\n",
       "          0.01877404, -0.01712816],\n",
       "        [ 0.01591155, -0.0478917 , -0.03558023, ..., -0.03524305,\n",
       "         -0.03165288,  0.03602386],\n",
       "        ...,\n",
       "        [ 0.02069106,  0.04809321,  0.03058121, ...,  0.04436872,\n",
       "         -0.03028834, -0.04358445],\n",
       "        [ 0.02086597, -0.03634919, -0.04131623, ...,  0.03631559,\n",
       "         -0.01931667, -0.03139149],\n",
       "        [-0.02955717, -0.02106285, -0.02430146, ...,  0.02885736,\n",
       "          0.01094211, -0.02778686]]], dtype=float32)>"
      ]
     },
     "execution_count": 35,
     "metadata": {},
     "output_type": "execute_result"
    }
   ],
   "source": [
    "# Define where to get the data for our embeddings from\n",
    "inputs = embedding_layer(_input_data)\n",
    "inputs"
   ]
  },
  {
   "cell_type": "markdown",
   "metadata": {},
   "source": [
    "<h3>Constructing Recurrent Neural Networks</h3>\n"
   ]
  },
  {
   "cell_type": "markdown",
   "metadata": {},
   "source": [
    "In this step, we create the stacked LSTM using <b>tf.keras.layers.StackedRNNCells</b>, which is a 2 layer LSTM network:\n"
   ]
  },
  {
   "cell_type": "code",
   "execution_count": 36,
   "metadata": {},
   "outputs": [],
   "source": [
    "lstm_cell_l1 = tf.keras.layers.LSTMCell(hidden_size_l1)\n",
    "lstm_cell_l2 = tf.keras.layers.LSTMCell(hidden_size_l2)"
   ]
  },
  {
   "cell_type": "code",
   "execution_count": 37,
   "metadata": {},
   "outputs": [],
   "source": [
    "stacked_lstm = tf.keras.layers.StackedRNNCells([lstm_cell_l1, lstm_cell_l2])"
   ]
  },
  {
   "cell_type": "markdown",
   "metadata": {},
   "source": [
    "<b>tf.keras.layers.RNN</b> creates a recurrent neural network using <b>stacked_lstm</b>. \n",
    "\n",
    "The input should be a Tensor of shape: [batch_size, max_time, embedding_vector_size], in our case it would be (30, 20, 200)\n"
   ]
  },
  {
   "cell_type": "code",
   "execution_count": 38,
   "metadata": {},
   "outputs": [],
   "source": [
    "layer  =  tf.keras.layers.RNN(stacked_lstm,[batch_size, num_steps],return_state=False,stateful=True,trainable=True)"
   ]
  },
  {
   "cell_type": "markdown",
   "metadata": {},
   "source": [
    "Also, we initialize the states of the nework:\n",
    "\n",
    "<h4>_initial_state</h4>\n",
    "\n",
    "For each LSTM, there are 2 state matrices, c\\_state and m\\_state.  c_state and m_state represent \"Memory State\" and \"Cell State\". Each hidden layer, has a vector of size 30, which keeps the states. so, for 200 hidden units in each LSTM, we have a matrix of size [30x200]\n"
   ]
  },
  {
   "cell_type": "code",
   "execution_count": 39,
   "metadata": {},
   "outputs": [],
   "source": [
    "init_state = tf.Variable(tf.zeros([batch_size,embeding_vector_size]),trainable=False)"
   ]
  },
  {
   "cell_type": "code",
   "execution_count": 40,
   "metadata": {},
   "outputs": [],
   "source": [
    "layer.inital_state = init_state"
   ]
  },
  {
   "cell_type": "code",
   "execution_count": 41,
   "metadata": {},
   "outputs": [
    {
     "data": {
      "text/plain": [
       "<tf.Variable 'Variable:0' shape=(30, 200) dtype=float32, numpy=\n",
       "array([[0., 0., 0., ..., 0., 0., 0.],\n",
       "       [0., 0., 0., ..., 0., 0., 0.],\n",
       "       [0., 0., 0., ..., 0., 0., 0.],\n",
       "       ...,\n",
       "       [0., 0., 0., ..., 0., 0., 0.],\n",
       "       [0., 0., 0., ..., 0., 0., 0.],\n",
       "       [0., 0., 0., ..., 0., 0., 0.]], dtype=float32)>"
      ]
     },
     "execution_count": 41,
     "metadata": {},
     "output_type": "execute_result"
    }
   ],
   "source": [
    "layer.inital_state"
   ]
  },
  {
   "cell_type": "markdown",
   "metadata": {},
   "source": [
    "so, lets look at the outputs. The output of the stackedLSTM comes from 128 hidden_layer, and in each time step(=20), one of them get activated. we use the linear activation to map the 128 hidden layer to a [30X20 matrix]\n"
   ]
  },
  {
   "cell_type": "code",
   "execution_count": 42,
   "metadata": {},
   "outputs": [],
   "source": [
    "outputs = layer(inputs)"
   ]
  },
  {
   "cell_type": "code",
   "execution_count": 43,
   "metadata": {},
   "outputs": [
    {
     "data": {
      "text/plain": [
       "<tf.Tensor: shape=(30, 20, 128), dtype=float32, numpy=\n",
       "array([[[-9.85839637e-04, -8.57694075e-04, -3.71390430e-04, ...,\n",
       "          3.92526796e-04,  5.82869863e-04,  1.24733290e-03],\n",
       "        [-1.59775850e-03, -1.34976697e-03, -9.49536388e-06, ...,\n",
       "          5.19227237e-04,  1.23456260e-03,  2.01685168e-03],\n",
       "        [-2.08070967e-03, -5.52458281e-04, -4.71514766e-04, ...,\n",
       "         -1.55632399e-04,  4.32838104e-04,  2.52695312e-03],\n",
       "        ...,\n",
       "        [-2.67383526e-03,  1.84968277e-03,  7.86084309e-03, ...,\n",
       "          3.52771278e-03,  1.82671100e-03, -2.84410012e-03],\n",
       "        [-2.85340776e-03,  1.84744853e-03,  8.24376568e-03, ...,\n",
       "          4.25726920e-03,  3.18214018e-03, -2.66493950e-03],\n",
       "        [-3.06507805e-03,  2.33274535e-03,  8.25252477e-03, ...,\n",
       "          3.16033303e-03,  3.09185381e-03, -2.33662035e-03]],\n",
       "\n",
       "       [[ 7.58317648e-04, -1.17188296e-03,  5.93036413e-04, ...,\n",
       "         -3.15791578e-04, -1.11842330e-03,  9.33542324e-05],\n",
       "        [ 1.50215207e-03, -1.29148620e-03,  1.96544267e-03, ...,\n",
       "         -1.68717152e-03, -8.68208765e-04,  5.61697467e-04],\n",
       "        [ 2.98154890e-03, -2.35273247e-03,  3.09905992e-03, ...,\n",
       "         -2.68238992e-03, -4.24871996e-06,  1.71261327e-03],\n",
       "        ...,\n",
       "        [-8.24411120e-03,  1.11568756e-02, -6.22728490e-04, ...,\n",
       "          3.10402177e-03, -5.74101973e-03,  1.23002019e-03],\n",
       "        [-8.57039448e-03,  9.36660077e-03, -1.69827021e-03, ...,\n",
       "          1.73567305e-03, -5.80389146e-03,  4.38884279e-04],\n",
       "        [-1.06186438e-02,  7.69422390e-03, -2.48315185e-03, ...,\n",
       "         -1.29927241e-04, -6.64733956e-03, -7.39977986e-05]],\n",
       "\n",
       "       [[ 1.17014622e-06, -5.19259600e-04, -1.02986360e-03, ...,\n",
       "          4.82525902e-05, -7.67592108e-04,  8.09606427e-05],\n",
       "        [-5.39262779e-04, -1.52846961e-03, -2.03173421e-03, ...,\n",
       "          1.16370444e-03,  8.75171914e-04, -1.39922893e-03],\n",
       "        [-9.64730280e-04, -2.14460632e-03, -2.35805335e-03, ...,\n",
       "          1.71675882e-03,  2.00145808e-03, -1.68800785e-03],\n",
       "        ...,\n",
       "        [-5.68991993e-04,  1.54235093e-02,  6.75752060e-03, ...,\n",
       "         -7.06740771e-04, -1.32858322e-03, -4.59754141e-03],\n",
       "        [-1.12715104e-04,  1.59712862e-02,  6.66910503e-03, ...,\n",
       "         -2.32365937e-03, -2.00480735e-03, -5.14477212e-03],\n",
       "        [ 7.32848886e-04,  1.68834701e-02,  6.04345556e-03, ...,\n",
       "         -3.81289236e-03, -2.23992742e-03, -5.21261897e-03]],\n",
       "\n",
       "       ...,\n",
       "\n",
       "       [[-3.89541412e-04, -1.39840343e-03,  7.07002415e-04, ...,\n",
       "         -4.01506550e-04, -6.76472962e-04,  2.27810146e-04],\n",
       "        [-1.26534654e-03, -2.26180768e-03,  4.63347184e-04, ...,\n",
       "         -2.36361264e-03, -1.73896167e-03,  5.08354860e-04],\n",
       "        [-1.03924621e-03, -2.65325373e-03,  4.15401330e-04, ...,\n",
       "         -2.66266521e-03, -3.37742409e-03,  2.39067874e-03],\n",
       "        ...,\n",
       "        [-1.53300236e-03,  2.94762128e-03,  3.85795021e-04, ...,\n",
       "         -7.91281369e-03, -3.18485009e-03,  4.31670458e-04],\n",
       "        [-4.15014289e-03,  6.32624049e-03,  1.78030331e-03, ...,\n",
       "         -7.26231886e-03, -4.76146257e-03,  1.96431717e-03],\n",
       "        [-5.10247378e-03,  6.63955789e-03,  1.09172054e-03, ...,\n",
       "         -6.79582777e-03, -3.93801648e-03,  1.00984448e-03]],\n",
       "\n",
       "       [[-1.03029644e-03,  1.51180429e-03,  8.77926650e-04, ...,\n",
       "          6.42795407e-04, -9.03856824e-04, -4.42453893e-04],\n",
       "        [-1.69429148e-03,  2.43529840e-03,  2.39925575e-03, ...,\n",
       "         -1.12583773e-04,  7.78913454e-06, -9.81917954e-04],\n",
       "        [-2.09088856e-03,  2.95320852e-03,  2.81781401e-03, ...,\n",
       "         -3.31143761e-04,  1.33861278e-04, -3.41963692e-04],\n",
       "        ...,\n",
       "        [ 2.06893135e-04,  7.08739099e-04, -4.04682430e-03, ...,\n",
       "          1.01958797e-03, -4.96278144e-03, -3.55090341e-03],\n",
       "        [ 3.06204689e-04,  3.27673974e-04, -3.53192026e-03, ...,\n",
       "         -1.27314313e-04, -3.99853336e-03, -3.77426692e-03],\n",
       "        [ 1.09816482e-03,  6.41153194e-04, -2.57507153e-03, ...,\n",
       "         -1.99570856e-03, -2.54104007e-03, -3.60467355e-03]],\n",
       "\n",
       "       [[ 8.89481526e-05, -3.95233685e-04,  1.74636662e-03, ...,\n",
       "          7.26409082e-04,  4.13399655e-04, -2.19129060e-06],\n",
       "        [-3.35077930e-04, -1.84407181e-04,  2.54670647e-03, ...,\n",
       "          6.93158421e-04,  7.05138082e-04, -9.01321182e-04],\n",
       "        [-9.63578641e-04,  2.31056430e-04,  4.47051600e-03, ...,\n",
       "          1.93915912e-05, -5.85024885e-04, -1.94392493e-03],\n",
       "        ...,\n",
       "        [-2.67545949e-03,  7.93668348e-03, -1.43735344e-03, ...,\n",
       "          4.70991991e-03, -6.73030689e-03,  1.64196221e-03],\n",
       "        [-1.61048619e-03,  7.25696608e-03, -2.54532509e-03, ...,\n",
       "          6.45483891e-03, -9.08375066e-03,  2.08434253e-03],\n",
       "        [-2.80102226e-03,  7.17404066e-03, -2.93039181e-03, ...,\n",
       "          8.28121603e-03, -9.74452216e-03,  1.86210114e-03]]],\n",
       "      dtype=float32)>"
      ]
     },
     "execution_count": 43,
     "metadata": {},
     "output_type": "execute_result"
    }
   ],
   "source": [
    "outputs"
   ]
  },
  {
   "cell_type": "markdown",
   "metadata": {},
   "source": [
    "<h2>Dense layer</h2>\n",
    "We now create densely-connected neural network layer that would reshape the outputs tensor from  [30 x 20 x 128] to [30 x 20 x 10000].\n"
   ]
  },
  {
   "cell_type": "code",
   "execution_count": 44,
   "metadata": {},
   "outputs": [],
   "source": [
    "dense = tf.keras.layers.Dense(vocab_size)"
   ]
  },
  {
   "cell_type": "code",
   "execution_count": 45,
   "metadata": {},
   "outputs": [],
   "source": [
    "logits_outputs  = dense(outputs)"
   ]
  },
  {
   "cell_type": "code",
   "execution_count": 46,
   "metadata": {},
   "outputs": [
    {
     "name": "stdout",
     "output_type": "stream",
     "text": [
      "shape of the output from dense layer:  (30, 20, 10000)\n"
     ]
    }
   ],
   "source": [
    "print(\"shape of the output from dense layer: \", logits_outputs.shape) #(batch_size, sequence_length, vocab_size)"
   ]
  },
  {
   "cell_type": "markdown",
   "metadata": {},
   "source": [
    "<h2>Activation layer</h2>\n",
    "\n",
    "\n",
    "A softmax activation layers is also then applied to derive the probability of the output being in any of the multiclass(10000 in this case) possibilities. \n"
   ]
  },
  {
   "cell_type": "code",
   "execution_count": 47,
   "metadata": {},
   "outputs": [],
   "source": [
    "activation = tf.keras.layers.Activation('softmax')"
   ]
  },
  {
   "cell_type": "code",
   "execution_count": 48,
   "metadata": {},
   "outputs": [],
   "source": [
    "output_words_prob = activation(logits_outputs)"
   ]
  },
  {
   "cell_type": "code",
   "execution_count": 49,
   "metadata": {},
   "outputs": [
    {
     "name": "stdout",
     "output_type": "stream",
     "text": [
      "shape of the output from the activation layer:  (30, 20, 10000)\n"
     ]
    }
   ],
   "source": [
    "print(\"shape of the output from the activation layer: \", output_words_prob.shape) #(batch_size, sequence_length, vocab_size)"
   ]
  },
  {
   "cell_type": "markdown",
   "metadata": {},
   "source": [
    "Lets look at the probability of observing words for t=0 to t=20:\n"
   ]
  },
  {
   "cell_type": "code",
   "execution_count": 50,
   "metadata": {},
   "outputs": [
    {
     "name": "stdout",
     "output_type": "stream",
     "text": [
      "The probability of observing words in t=0 to t=20 tf.Tensor(\n",
      "[[9.99979238e-05 1.00023972e-04 1.00007856e-04 ... 1.00002173e-04\n",
      "  1.00008634e-04 1.00015459e-04]\n",
      " [1.00006604e-04 1.00035410e-04 1.00003359e-04 ... 9.99940239e-05\n",
      "  1.00028963e-04 1.00030462e-04]\n",
      " [1.00018580e-04 1.00054167e-04 9.99682234e-05 ... 9.99953409e-05\n",
      "  1.00051373e-04 1.00033518e-04]\n",
      " ...\n",
      " [9.99992699e-05 9.99416225e-05 9.99103213e-05 ... 1.00017758e-04\n",
      "  1.00065416e-04 1.00058474e-04]\n",
      " [1.00009078e-04 9.99545300e-05 9.99007243e-05 ... 1.00031342e-04\n",
      "  1.00065823e-04 1.00035722e-04]\n",
      " [1.00006597e-04 9.99801778e-05 9.99094700e-05 ... 1.00043515e-04\n",
      "  1.00072924e-04 1.00037811e-04]], shape=(20, 10000), dtype=float32)\n"
     ]
    }
   ],
   "source": [
    "print(\"The probability of observing words in t=0 to t=20\", output_words_prob[0,0:num_steps])"
   ]
  },
  {
   "cell_type": "markdown",
   "metadata": {},
   "source": [
    "<h3>Prediction</h3>\n",
    "What is the word correspond to the probability output? Lets use the maximum probability:\n"
   ]
  },
  {
   "cell_type": "code",
   "execution_count": 51,
   "metadata": {},
   "outputs": [
    {
     "data": {
      "text/plain": [
       "array([3997, 3997, 3418, 5751, 5751, 5751, 1937,  633,  633, 8545, 7881,\n",
       "       6220, 6220, 1501, 7343, 7343,   51,   51,   51,   51])"
      ]
     },
     "execution_count": 51,
     "metadata": {},
     "output_type": "execute_result"
    }
   ],
   "source": [
    "np.argmax(output_words_prob[0,0:num_steps], axis=1)"
   ]
  },
  {
   "cell_type": "markdown",
   "metadata": {},
   "source": [
    "So, what is the ground truth for the first word of first sentence? You can get it from target tensor, if you want to find the embedding vector: \n"
   ]
  },
  {
   "cell_type": "code",
   "execution_count": 52,
   "metadata": {},
   "outputs": [
    {
     "data": {
      "text/plain": [
       "array([9971, 9972, 9974, 9975, 9976, 9980, 9981, 9982, 9983, 9984, 9986,\n",
       "       9987, 9988, 9989, 9991, 9992, 9993, 9994, 9995, 9996], dtype=int32)"
      ]
     },
     "execution_count": 52,
     "metadata": {},
     "output_type": "execute_result"
    }
   ],
   "source": [
    "_targets[0]"
   ]
  },
  {
   "cell_type": "markdown",
   "metadata": {},
   "source": [
    "<h4>Objective function</h4>\n",
    "\n",
    "\n",
    "How similar the predicted words are to the target words?\n",
    "\n",
    "\n",
    "Now we have to define our objective function, to calculate the similarity of predicted values to ground truth, and then, penalize the model with the error. Our objective is to minimize loss function, that is, to minimize the average negative log probability of the target words:\n",
    "\n",
    "$$\\text{loss} = -\\frac{1}{N}\\sum_{i=1}^{N} \\ln p_{\\text{target}_i}$$\n",
    "\n",
    "This function is already implemented and available in TensorFlow through *tf.keras.losses.sparse_categorical_crossentropy*. It calculates the categorical cross-entropy loss for <b>logits</b> and the <b>target</b> sequence.  \n",
    "\n",
    "The arguments of this function are:  \n",
    "<ul>\n",
    "    <li>logits: List of 2D Tensors of shape [batch_size x num_decoder_symbols].</li>  \n",
    "    <li>targets: List of 1D batch-sized int32 Tensors of the same length as logits.</li>   \n",
    "</ul>\n"
   ]
  },
  {
   "cell_type": "code",
   "execution_count": 53,
   "metadata": {},
   "outputs": [],
   "source": [
    "def crossentropy(y_true, y_pred):\n",
    "    return tf.keras.losses.sparse_categorical_crossentropy(y_true, y_pred)"
   ]
  },
  {
   "cell_type": "code",
   "execution_count": 54,
   "metadata": {},
   "outputs": [],
   "source": [
    "loss  = crossentropy(_targets, output_words_prob)"
   ]
  },
  {
   "cell_type": "markdown",
   "metadata": {},
   "source": [
    "Lets look at the first 10 values of loss:\n"
   ]
  },
  {
   "cell_type": "code",
   "execution_count": 55,
   "metadata": {},
   "outputs": [
    {
     "data": {
      "text/plain": [
       "<tf.Tensor: shape=(10,), dtype=float32, numpy=\n",
       "array([9.2106085, 9.210551 , 9.210497 , 9.210782 , 9.210591 , 9.210107 ,\n",
       "       9.209921 , 9.210669 , 9.210697 , 9.210193 ], dtype=float32)>"
      ]
     },
     "execution_count": 55,
     "metadata": {},
     "output_type": "execute_result"
    }
   ],
   "source": [
    "loss[0,:10]"
   ]
  },
  {
   "cell_type": "markdown",
   "metadata": {},
   "source": [
    "Now, we define cost as average of the losses:\n"
   ]
  },
  {
   "cell_type": "code",
   "execution_count": 56,
   "metadata": {},
   "outputs": [
    {
     "data": {
      "text/plain": [
       "<tf.Tensor: shape=(), dtype=float32, numpy=184.20692>"
      ]
     },
     "execution_count": 56,
     "metadata": {},
     "output_type": "execute_result"
    }
   ],
   "source": [
    "cost = tf.reduce_sum(loss / batch_size)\n",
    "cost"
   ]
  },
  {
   "cell_type": "markdown",
   "metadata": {},
   "source": [
    "<h3>Training</h3>\n",
    "\n",
    "To do training for our network, we have to take the following steps:\n",
    "<ol>\n",
    "    <li>Define the optimizer.</li>\n",
    "    <li>Assemble layers to build model.</li>\n",
    "    <li>Calculate the gradients based on the loss function.</li>\n",
    "    <li>Apply the optimizer to the variables/gradients tuple.</li>\n",
    "</ol>\n"
   ]
  },
  {
   "cell_type": "markdown",
   "metadata": {},
   "source": [
    "<h4>1. Define Optimizer</h4>\n",
    "\n"
   ]
  },
  {
   "cell_type": "code",
   "execution_count": 57,
   "metadata": {},
   "outputs": [
    {
     "name": "stderr",
     "output_type": "stream",
     "text": [
      "/home/jupyterlab/conda/envs/python/lib/python3.7/site-packages/keras/optimizers/optimizer_v2/gradient_descent.py:108: UserWarning: The `lr` argument is deprecated, use `learning_rate` instead.\n",
      "  super(SGD, self).__init__(name, **kwargs)\n"
     ]
    }
   ],
   "source": [
    "# Create a variable for the learning rate\n",
    "lr = tf.Variable(0.0, trainable=False)\n",
    "optimizer = tf.keras.optimizers.SGD(lr=lr, clipnorm=max_grad_norm)"
   ]
  },
  {
   "cell_type": "markdown",
   "metadata": {},
   "source": [
    "<h4>2. Assemble layers to build model.</h4>\n"
   ]
  },
  {
   "cell_type": "code",
   "execution_count": 58,
   "metadata": {},
   "outputs": [
    {
     "name": "stdout",
     "output_type": "stream",
     "text": [
      "Model: \"sequential\"\n",
      "_________________________________________________________________\n",
      " Layer (type)                Output Shape              Param #   \n",
      "=================================================================\n",
      " embedding_vocab (Embedding)  (30, 20, 200)            2000000   \n",
      "                                                                 \n",
      " rnn (RNN)                   (30, 20, 128)             671088    \n",
      "                                                                 \n",
      " dense (Dense)               (30, 20, 10000)           1290000   \n",
      "                                                                 \n",
      " activation (Activation)     (30, 20, 10000)           0         \n",
      "                                                                 \n",
      "=================================================================\n",
      "Total params: 3,961,088\n",
      "Trainable params: 3,955,088\n",
      "Non-trainable params: 6,000\n",
      "_________________________________________________________________\n"
     ]
    }
   ],
   "source": [
    "model = tf.keras.Sequential()\n",
    "model.add(embedding_layer)\n",
    "model.add(layer)\n",
    "model.add(dense)\n",
    "model.add(activation)\n",
    "model.compile(loss=crossentropy, optimizer=optimizer)\n",
    "model.summary()"
   ]
  },
  {
   "cell_type": "markdown",
   "metadata": {},
   "source": [
    "\n",
    "<h4>2. Trainable Variables</h4>\n"
   ]
  },
  {
   "cell_type": "markdown",
   "metadata": {},
   "source": [
    "Defining a variable, if you passed <i>trainable=True</i>, the variable constructor automatically adds new variables to the graph collection <b>GraphKeys.TRAINABLE_VARIABLES</b>. Now, using <i>tf.trainable_variables()</i> you can get all variables created with <b>trainable=True</b>.\n"
   ]
  },
  {
   "cell_type": "code",
   "execution_count": 59,
   "metadata": {},
   "outputs": [],
   "source": [
    "# Get all TensorFlow variables marked as \"trainable\" (i.e. all of them except _lr, which we just created)\n",
    "tvars = model.trainable_variables"
   ]
  },
  {
   "cell_type": "markdown",
   "metadata": {},
   "source": [
    "Note: we can find the name and scope of all variables:\n"
   ]
  },
  {
   "cell_type": "code",
   "execution_count": 60,
   "metadata": {},
   "outputs": [
    {
     "data": {
      "text/plain": [
       "['embedding_vocab/embeddings:0',\n",
       " 'rnn/stacked_rnn_cells/lstm_cell/kernel:0',\n",
       " 'rnn/stacked_rnn_cells/lstm_cell/recurrent_kernel:0',\n",
       " 'rnn/stacked_rnn_cells/lstm_cell/bias:0',\n",
       " 'rnn/stacked_rnn_cells/lstm_cell_1/kernel:0',\n",
       " 'rnn/stacked_rnn_cells/lstm_cell_1/recurrent_kernel:0',\n",
       " 'rnn/stacked_rnn_cells/lstm_cell_1/bias:0',\n",
       " 'dense/kernel:0',\n",
       " 'dense/bias:0']"
      ]
     },
     "execution_count": 60,
     "metadata": {},
     "output_type": "execute_result"
    }
   ],
   "source": [
    "[v.name for v in tvars] "
   ]
  },
  {
   "cell_type": "markdown",
   "metadata": {},
   "source": [
    "<h4>3. Calculate the gradients based on the loss function</h4>\n"
   ]
  },
  {
   "cell_type": "markdown",
   "metadata": {},
   "source": [
    "**Gradient**: The gradient of a function is the slope of its derivative (line), or in other words, the rate of change of a function. It's a vector (a direction to move) that points in the direction of greatest increase of the function, and calculated by the <b>derivative</b> operation.\n"
   ]
  },
  {
   "cell_type": "markdown",
   "metadata": {},
   "source": [
    "First lets recall the gradient function using an toy example:\n",
    "$$ z = \\left(2x^2 + 3xy\\right)$$\n"
   ]
  },
  {
   "cell_type": "code",
   "execution_count": 61,
   "metadata": {},
   "outputs": [],
   "source": [
    "x = tf.constant(1.0)\n",
    "y =  tf.constant(2.0)\n",
    "with tf.GradientTape(persistent=True) as g:\n",
    "    g.watch(x)\n",
    "    g.watch(y)\n",
    "    func_test = 2 * x * x + 3 * x * y"
   ]
  },
  {
   "cell_type": "markdown",
   "metadata": {},
   "source": [
    "The <b>tf.gradients()</b> function allows you to compute the symbolic gradient of one tensor with respect to one or more other tensors—including variables. <b>tf.gradients(func, xs)</b> constructs symbolic partial derivatives of sum of <b>func</b> w.r.t. <i>x</i> in <b>xs</b>. \n",
    "\n",
    "Now, lets look at the derivitive w.r.t. <b>var_x</b>:\n",
    "$$ \\frac{\\partial \\:}{\\partial \\:x}\\left(2x^2 + 3xy\\right) = 4x + 3y $$\n"
   ]
  },
  {
   "cell_type": "code",
   "execution_count": 62,
   "metadata": {},
   "outputs": [
    {
     "name": "stdout",
     "output_type": "stream",
     "text": [
      "tf.Tensor(10.0, shape=(), dtype=float32)\n"
     ]
    }
   ],
   "source": [
    "var_grad = g.gradient(func_test, x) # Will compute to 10.0\n",
    "print(var_grad)"
   ]
  },
  {
   "cell_type": "markdown",
   "metadata": {},
   "source": [
    "the derivative w.r.t. <b>var_y</b>:\n",
    "$$ \\frac{\\partial \\:}{\\partial \\:y}\\left(2x^2 + 3xy\\right) = 3x $$\n"
   ]
  },
  {
   "cell_type": "code",
   "execution_count": 63,
   "metadata": {},
   "outputs": [
    {
     "name": "stdout",
     "output_type": "stream",
     "text": [
      "tf.Tensor(3.0, shape=(), dtype=float32)\n"
     ]
    }
   ],
   "source": [
    "var_grad = g.gradient(func_test, y) # Will compute to 3.0\n",
    "print(var_grad)"
   ]
  },
  {
   "cell_type": "markdown",
   "metadata": {},
   "source": [
    "Now, we can look at gradients w.r.t all variables:\n"
   ]
  },
  {
   "cell_type": "code",
   "execution_count": 64,
   "metadata": {},
   "outputs": [],
   "source": [
    "with tf.GradientTape() as tape:\n",
    "    # Forward pass.\n",
    "    output_words_prob = model(_input_data)\n",
    "    # Loss value for this batch.\n",
    "    loss  = crossentropy(_targets, output_words_prob)\n",
    "    cost = tf.reduce_sum(loss,axis=0) / batch_size"
   ]
  },
  {
   "cell_type": "code",
   "execution_count": 65,
   "metadata": {},
   "outputs": [],
   "source": [
    "# Get gradients of loss wrt the trainable variables.\n",
    "grad_t_list = tape.gradient(cost, tvars)"
   ]
  },
  {
   "cell_type": "code",
   "execution_count": 66,
   "metadata": {},
   "outputs": [
    {
     "name": "stdout",
     "output_type": "stream",
     "text": [
      "[<tensorflow.python.framework.indexed_slices.IndexedSlices object at 0x7f075ccfde10>, <tf.Tensor: shape=(200, 1024), dtype=float32, numpy=\n",
      "array([[-2.1979977e-07,  2.4726859e-07, -5.8536767e-07, ...,\n",
      "         1.4752864e-07, -4.1845794e-07,  5.6087508e-08],\n",
      "       [-1.1346275e-07,  6.9640987e-07,  1.9647456e-07, ...,\n",
      "         2.5588750e-07,  5.0928401e-07, -8.0127080e-08],\n",
      "       [ 5.2693633e-07, -2.3445384e-07,  4.1492717e-07, ...,\n",
      "        -2.1492566e-07,  1.1010993e-07, -5.8723515e-08],\n",
      "       ...,\n",
      "       [-9.2976308e-08, -3.9069758e-07,  5.1233451e-07, ...,\n",
      "        -3.5514660e-08,  2.9402290e-07,  3.2583799e-07],\n",
      "       [ 3.3491034e-07,  3.3951272e-07,  7.3853862e-08, ...,\n",
      "        -3.1619433e-07, -7.1509426e-08, -3.8543490e-08],\n",
      "       [ 1.0858756e-07, -2.9488777e-07, -3.6862892e-07, ...,\n",
      "         1.7173920e-07, -1.5665233e-07, -2.9099148e-08]], dtype=float32)>, <tf.Tensor: shape=(256, 1024), dtype=float32, numpy=\n",
      "array([[-1.78207927e-07,  3.80431402e-08, -9.26782988e-08, ...,\n",
      "        -8.99048018e-08, -1.01235734e-07,  1.05231763e-07],\n",
      "       [-5.78797312e-08,  2.54463970e-08,  1.84104337e-07, ...,\n",
      "         1.18445840e-07,  2.95544460e-08,  1.52822448e-08],\n",
      "       [ 1.26174257e-07,  7.13934725e-08, -3.40571162e-08, ...,\n",
      "        -4.93723391e-08,  6.26481196e-08, -1.02331107e-07],\n",
      "       ...,\n",
      "       [-3.16073638e-08, -2.35923316e-08,  4.80992384e-08, ...,\n",
      "         1.22505554e-07,  2.55630511e-07,  1.09397078e-07],\n",
      "       [ 7.31033367e-08, -1.53761107e-07,  1.11717242e-07, ...,\n",
      "        -3.01325713e-07,  1.61159306e-07, -1.24018158e-07],\n",
      "       [-8.99090296e-08, -6.53607586e-08, -7.58896945e-08, ...,\n",
      "        -1.47471084e-08,  1.11534234e-07,  2.22730705e-07]], dtype=float32)>, <tf.Tensor: shape=(1024,), dtype=float32, numpy=\n",
      "array([-2.2029681e-05, -5.3414478e-06,  1.0721504e-05, ...,\n",
      "        1.9131829e-05, -4.1202031e-05,  1.0768407e-05], dtype=float32)>, <tf.Tensor: shape=(256, 512), dtype=float32, numpy=\n",
      "array([[-7.2418516e-09, -1.7620836e-07, -6.8957007e-08, ...,\n",
      "         1.2796608e-07,  2.8425969e-08,  6.2657584e-08],\n",
      "       [ 6.1864085e-08,  5.3945975e-08, -1.6945869e-08, ...,\n",
      "         1.9448809e-07, -4.9970680e-07,  7.2851840e-08],\n",
      "       [-1.7436963e-07,  1.0785644e-07, -1.6790084e-07, ...,\n",
      "        -2.5335100e-07, -2.9934040e-07,  4.5732254e-08],\n",
      "       ...,\n",
      "       [ 6.4709539e-08,  1.3502348e-07,  3.7574516e-08, ...,\n",
      "        -1.6687710e-07, -1.7175648e-07, -1.3516440e-07],\n",
      "       [ 5.3848098e-08,  1.7038290e-07, -6.7803164e-08, ...,\n",
      "        -2.8776802e-07, -2.8887953e-07, -2.8166133e-07],\n",
      "       [-2.2854023e-07, -2.0952587e-07,  3.6181447e-08, ...,\n",
      "        -3.4262780e-07, -5.1483930e-08,  1.3282478e-07]], dtype=float32)>, <tf.Tensor: shape=(128, 512), dtype=float32, numpy=\n",
      "array([[ 2.69230497e-07, -7.58004077e-08, -2.47142697e-08, ...,\n",
      "        -8.63026060e-08, -1.84137036e-07, -5.88888689e-08],\n",
      "       [-1.91819424e-07,  7.02197838e-07, -7.89907233e-08, ...,\n",
      "         3.14993201e-07,  8.73188810e-09,  5.89577738e-08],\n",
      "       [-4.54649296e-08,  2.36877312e-07, -9.13602349e-08, ...,\n",
      "         1.11336718e-07, -1.02124247e-07, -1.69205130e-08],\n",
      "       ...,\n",
      "       [-3.78344467e-08,  8.72578170e-08, -1.01613855e-08, ...,\n",
      "         2.29089494e-08, -9.82040476e-08, -9.05275677e-09],\n",
      "       [ 6.12952675e-08,  1.16692263e-07,  7.61574057e-08, ...,\n",
      "         1.99274766e-08,  1.97179606e-09, -2.65877560e-08],\n",
      "       [-7.87076502e-08, -9.51105221e-08,  1.19970460e-08, ...,\n",
      "         3.36119292e-08,  1.05834630e-09,  4.31580780e-08]], dtype=float32)>, <tf.Tensor: shape=(512,), dtype=float32, numpy=\n",
      "array([-2.28091249e-05,  5.73458929e-05, -1.38822961e-05, -7.24298880e-05,\n",
      "       -1.05644749e-05, -1.86218240e-05, -1.99809165e-05, -3.27162670e-05,\n",
      "        4.43225435e-05,  6.62517341e-05,  3.39795006e-05, -4.92396703e-06,\n",
      "        9.24505275e-06,  5.78830259e-05, -3.17385930e-05,  2.19411104e-05,\n",
      "       -1.14491886e-05, -2.34849158e-05, -1.05007684e-05, -1.08335007e-05,\n",
      "       -9.69574921e-06,  1.44439364e-05,  8.82077074e-07,  7.68485916e-05,\n",
      "        2.69665761e-05,  9.04960962e-06,  6.08868431e-05, -1.00542056e-05,\n",
      "       -1.14814575e-05, -2.05669385e-05, -8.99506558e-05, -1.41566379e-05,\n",
      "       -6.03649860e-05,  3.95694624e-05, -1.12524913e-06,  9.80692403e-06,\n",
      "        2.75810944e-05, -3.84930609e-05,  5.79197113e-05,  2.65402177e-05,\n",
      "       -9.65951313e-06,  1.10343844e-05, -3.91980502e-05, -2.77243744e-05,\n",
      "        1.81553842e-05,  2.34161580e-05, -1.30266408e-05,  1.21519952e-06,\n",
      "       -4.62089229e-05, -4.21456316e-05,  1.38063924e-05,  1.16739684e-05,\n",
      "        1.34545935e-05,  5.43982151e-06, -6.55746117e-05,  4.92357503e-06,\n",
      "       -1.85316367e-07, -1.69856321e-06,  2.65723866e-05,  1.04043202e-05,\n",
      "       -1.65880683e-05,  2.66579991e-06, -2.46784675e-05,  2.07903577e-06,\n",
      "       -1.75568857e-06,  1.00550187e-06, -2.36352207e-07, -1.60554828e-06,\n",
      "       -1.84384771e-06,  5.58223928e-06, -1.33087724e-05,  1.42326980e-05,\n",
      "        3.23798231e-05, -9.71251429e-05,  2.09438676e-05, -7.40382256e-06,\n",
      "        2.73943187e-05,  1.43280486e-04, -2.14179727e-05, -1.76222056e-05,\n",
      "        3.45245371e-06, -3.30750709e-06,  4.57763890e-05,  6.45233467e-06,\n",
      "       -5.75158265e-06,  6.26757401e-06,  1.95127177e-06,  9.61660589e-06,\n",
      "        2.44576086e-06, -3.78522709e-05,  3.65455999e-05, -1.24298258e-05,\n",
      "       -1.55994294e-05,  8.95679659e-06, -5.65775481e-05,  3.27452617e-05,\n",
      "       -1.33853155e-05, -6.46158078e-05, -3.34025185e-06,  9.47129047e-06,\n",
      "       -3.83668012e-05, -2.33794235e-05,  2.51433903e-05, -5.68054429e-06,\n",
      "       -6.04235684e-05, -1.51531012e-05,  2.56472049e-07,  2.22011731e-05,\n",
      "       -8.93571705e-05,  1.04217397e-05,  1.86222751e-05,  1.61944772e-05,\n",
      "       -1.92395582e-05, -3.03599900e-05,  4.33320565e-05, -5.25490468e-05,\n",
      "        2.73006663e-07,  1.51616914e-05,  2.36900305e-05,  3.33770149e-05,\n",
      "        4.36449864e-06,  1.10748824e-05, -1.15877647e-05,  6.79014629e-05,\n",
      "        2.83308655e-05,  3.14104000e-05, -3.60098329e-06,  1.44619498e-05,\n",
      "       -6.94625051e-05,  1.01095175e-04, -2.59962835e-05, -8.80063308e-05,\n",
      "        1.23599839e-05, -1.24822136e-05, -5.11100916e-05, -3.84527448e-05,\n",
      "        5.30789184e-05,  5.96378159e-05,  3.57203535e-05, -2.53996295e-05,\n",
      "       -5.93749974e-07,  7.45836078e-05, -4.76030946e-05,  4.55540612e-05,\n",
      "        8.06427124e-06, -4.71214698e-05, -5.83168912e-06, -6.06624199e-05,\n",
      "        1.79724520e-05,  2.87789044e-05,  2.24090527e-05,  4.84668235e-05,\n",
      "        1.60554773e-05,  2.41429043e-05,  8.55540711e-05,  5.12527095e-07,\n",
      "       -2.02818774e-05, -4.03675876e-05, -1.61700256e-04, -3.93289520e-06,\n",
      "       -8.52825688e-05,  1.15778457e-05, -8.23916253e-06,  3.03022116e-05,\n",
      "        1.65324273e-05, -5.11839062e-05,  7.32307089e-05,  4.08131236e-05,\n",
      "        1.15885687e-05,  1.30975077e-05, -5.89494884e-05, -3.03774013e-05,\n",
      "        1.12076123e-05,  1.70159401e-05, -8.89915282e-06,  1.16657084e-05,\n",
      "       -6.01655775e-05, -5.96391765e-05,  9.89869295e-06,  1.37784991e-06,\n",
      "        1.14198483e-05,  3.36533340e-05, -9.05899142e-05,  8.12492635e-06,\n",
      "       -3.94237395e-06, -2.61171954e-06,  3.19648025e-05,  3.39277503e-05,\n",
      "       -1.55686685e-05,  1.39440363e-05, -2.29570596e-05, -2.51300407e-05,\n",
      "        6.90063462e-06,  1.67253893e-05, -7.19723448e-06,  1.29741984e-05,\n",
      "       -7.71009218e-06,  2.20300954e-05, -8.74271427e-06,  2.53963244e-05,\n",
      "        2.29753005e-05, -1.40442455e-04, -4.11347446e-06,  2.64957289e-05,\n",
      "        5.04482960e-05,  2.12725558e-04, -4.07379339e-05, -7.50825620e-06,\n",
      "        1.52854664e-05, -2.69276316e-05,  7.04809936e-05, -9.94464062e-06,\n",
      "       -1.97194549e-05,  1.50844535e-05,  4.22939047e-06,  1.78914997e-05,\n",
      "       -1.92194675e-05, -5.25159339e-05,  7.44588579e-06, -3.02037988e-05,\n",
      "       -2.50325902e-05, -2.42275055e-05, -8.49874414e-05,  6.28124399e-05,\n",
      "       -1.57309114e-05, -1.08380467e-04, -1.48502459e-05,  1.16234787e-05,\n",
      "       -7.51265397e-05, -2.90925527e-06,  3.74619121e-05, -3.67304638e-05,\n",
      "       -4.95790227e-05, -1.79691524e-05,  2.19356571e-06,  3.19482206e-05,\n",
      "       -1.15083814e-04,  3.18510210e-05,  1.06917832e-05,  1.30526578e-05,\n",
      "       -3.81799982e-05, -3.13131532e-05,  5.80979031e-05, -9.04036933e-05,\n",
      "       -1.33953745e-05,  5.47977870e-05,  1.90951905e-05,  4.91458559e-05,\n",
      "       -5.96871541e-06, -5.66836025e-06, -3.33237986e-05,  1.02463717e-04,\n",
      "        1.32130499e-05,  4.90106577e-05,  1.76872709e-05,  1.64998637e-05,\n",
      "        4.88316640e-03,  2.26926375e-02, -2.73369495e-02, -4.28944305e-02,\n",
      "       -1.42238652e-02, -3.10850888e-02, -4.67660464e-02,  1.53500699e-02,\n",
      "        1.74197722e-02, -3.39934081e-02, -2.60078278e-03,  8.34295712e-03,\n",
      "       -3.59858423e-02,  4.78185043e-02, -3.27348262e-02,  4.90759872e-02,\n",
      "       -1.12376586e-02,  1.45637449e-02,  4.81756404e-03,  4.46303398e-04,\n",
      "        4.12673652e-02, -1.36736482e-02,  4.05930448e-03, -4.11886200e-02,\n",
      "        6.69348612e-03,  1.51485093e-02, -1.06737390e-02,  5.33072762e-02,\n",
      "       -2.69105472e-02, -3.95407155e-02, -8.37713182e-02,  8.95356946e-03,\n",
      "       -2.14332696e-02,  6.73741288e-03,  3.97077687e-02, -8.87790043e-03,\n",
      "        3.22884619e-02, -2.19873376e-02, -2.71466896e-02,  3.60335922e-04,\n",
      "        1.10867918e-02, -3.62513214e-03, -5.66149391e-02, -1.00831985e-02,\n",
      "        2.16910075e-02, -4.49281279e-03,  5.63330622e-03, -1.92387886e-02,\n",
      "        3.48749012e-02,  2.44319290e-02,  1.16583603e-02, -2.81089311e-03,\n",
      "        1.00159831e-03,  3.69286463e-02,  2.22151950e-02, -1.80315748e-02,\n",
      "       -3.64582334e-03,  1.32160587e-02, -3.86832058e-02, -2.03064899e-03,\n",
      "        1.88192669e-02, -1.92979840e-03, -3.05683389e-02, -4.49802633e-03,\n",
      "        3.36398333e-02,  4.25930545e-02,  3.34838852e-02,  3.21164615e-02,\n",
      "       -9.00677871e-04,  1.83472447e-02, -1.46354185e-02, -2.38507986e-02,\n",
      "        1.53852273e-02,  7.29613304e-02,  2.85356995e-02,  2.20527127e-02,\n",
      "        2.45034136e-02, -6.68865144e-02,  8.54732702e-04,  2.02844068e-02,\n",
      "       -1.53896092e-02,  2.02674195e-02, -2.84109134e-02,  2.70382129e-02,\n",
      "        3.18875536e-02, -9.78473481e-03,  3.33137810e-04,  2.44310941e-03,\n",
      "       -4.16366383e-04, -5.30280396e-02, -6.28942102e-02, -1.07362214e-02,\n",
      "       -5.89202344e-03, -2.87328009e-03, -4.86918949e-02, -6.83310395e-03,\n",
      "       -9.93949920e-03, -3.43968123e-02,  5.08943107e-03,  2.07561031e-02,\n",
      "        3.42772380e-02,  1.50725115e-02,  1.99718624e-02, -8.87274370e-03,\n",
      "       -2.01837439e-02,  1.33863837e-02, -3.01021114e-02, -4.51479070e-02,\n",
      "        3.06795090e-02,  5.33720404e-02,  1.82668585e-02,  2.86552217e-02,\n",
      "        1.59397181e-02, -2.23781019e-02, -1.37385931e-02, -3.21105346e-02,\n",
      "       -9.15596448e-03, -2.78889127e-02,  2.13309005e-02, -1.92453824e-02,\n",
      "       -6.21542148e-03, -1.34843895e-02,  1.01674860e-02,  3.93448435e-02,\n",
      "        1.59563571e-02,  1.31716691e-02, -9.85164661e-03,  3.02026374e-03,\n",
      "       -2.30086625e-05,  6.16248581e-05, -1.39722197e-05, -7.58368988e-05,\n",
      "       -8.53748861e-06, -2.25515232e-05, -2.86691757e-05, -4.27955019e-05,\n",
      "        5.19989480e-05,  8.27118783e-05,  4.08281048e-05, -1.88717740e-06,\n",
      "        9.97638745e-06,  6.48085406e-05, -3.70744128e-05,  2.38931279e-05,\n",
      "       -1.56494389e-05, -3.37651945e-05, -1.57290451e-05, -1.86932557e-05,\n",
      "        8.15379281e-07,  1.16475876e-05,  1.38065152e-05,  8.04349766e-05,\n",
      "        3.05602807e-05,  6.51917526e-06,  6.18301929e-05,  5.09930032e-07,\n",
      "       -8.17648106e-06, -2.46276486e-05, -8.86650523e-05, -1.16936953e-05,\n",
      "       -6.41384540e-05,  3.88282278e-05,  9.82152415e-06,  1.02049689e-05,\n",
      "        2.96354992e-05, -5.07899276e-05,  6.33215241e-05,  2.73756123e-05,\n",
      "       -5.25304040e-06,  1.46202146e-05, -4.42031014e-05, -3.00227221e-05,\n",
      "        1.08338527e-05,  1.35185965e-05, -1.65343663e-05, -4.48673109e-06,\n",
      "       -5.21157053e-05, -5.07924706e-05,  1.63251370e-05,  1.21638004e-05,\n",
      "        2.11590741e-05,  1.82327676e-06, -6.09716808e-05,  6.50510037e-06,\n",
      "       -1.07167443e-05,  8.84418114e-07,  3.54347503e-05,  1.32614450e-05,\n",
      "       -1.69465347e-05,  1.03277671e-06, -2.90447788e-05,  7.82931966e-06,\n",
      "       -6.40104645e-06, -3.88416993e-07, -2.49136610e-06,  6.53338429e-06,\n",
      "       -2.99191061e-06,  1.30593426e-05, -7.54959183e-06,  1.58747534e-05,\n",
      "        4.42436867e-05, -1.14381015e-04,  1.67348899e-05, -2.98110899e-06,\n",
      "        3.44896143e-05,  1.66604237e-04, -2.52736791e-05, -2.18591485e-05,\n",
      "       -1.82235863e-06, -3.75170248e-06,  4.93506122e-05,  1.45758349e-07,\n",
      "       -1.34617767e-05,  2.61542800e-06,  1.49503649e-06,  1.31077431e-05,\n",
      "       -5.20559843e-06, -4.30257205e-05,  4.28189742e-05, -1.20972109e-05,\n",
      "       -1.52831290e-05,  4.01968828e-06, -5.97122416e-05,  3.35214027e-05,\n",
      "       -2.12877640e-05, -6.93904658e-05, -3.45779063e-06,  1.42462704e-06,\n",
      "       -5.30266261e-05, -2.71339959e-05,  2.42932310e-05, -1.10912988e-05,\n",
      "       -5.82316316e-05, -1.48526651e-05,  2.83286136e-06,  1.44743735e-05,\n",
      "       -1.05364001e-04,  1.46083130e-05,  1.48727613e-05,  9.69720804e-06,\n",
      "       -1.69908271e-05, -2.98623308e-05,  3.74797310e-05, -6.19108250e-05,\n",
      "       -1.00711623e-05,  1.41351375e-05,  1.32855212e-05,  4.15490686e-05,\n",
      "        6.08744631e-06,  3.38114182e-06, -7.91671118e-06,  7.90600097e-05,\n",
      "        2.62909671e-05,  3.52205461e-05, -4.19480148e-06,  2.04578082e-05],\n",
      "      dtype=float32)>, <tf.Tensor: shape=(128, 10000), dtype=float32, numpy=\n",
      "array([[ 1.3577308e-03,  1.9914252e-03, -4.0383084e-04, ...,\n",
      "        -1.8673659e-06, -1.8679656e-06, -1.8676114e-06],\n",
      "       [-3.8649575e-03, -5.2773589e-03, -3.8790978e-03, ...,\n",
      "         8.9151072e-06,  8.9192417e-06,  8.9210398e-06],\n",
      "       [-8.8244147e-04, -8.9695491e-04, -8.6960802e-04, ...,\n",
      "         1.7582440e-06,  1.7592082e-06,  1.7592876e-06],\n",
      "       ...,\n",
      "       [-1.4775544e-03, -1.6469753e-03, -1.4573982e-03, ...,\n",
      "         2.2475015e-06,  2.2487152e-06,  2.2477197e-06],\n",
      "       [-4.5633252e-04,  8.7226834e-04, -1.2208901e-04, ...,\n",
      "        -1.2279187e-06, -1.2286212e-06, -1.2299339e-06],\n",
      "       [-5.3421844e-04, -1.2852537e-04,  7.2900363e-04, ...,\n",
      "         7.8218864e-07,  7.8080768e-07,  7.8151720e-07]], dtype=float32)>, <tf.Tensor: shape=(10000,), dtype=float32, numpy=\n",
      "array([-0.797998  , -1.0313314 , -1.0313315 , ...,  0.00199916,\n",
      "        0.0019998 ,  0.0019996 ], dtype=float32)>]\n"
     ]
    }
   ],
   "source": [
    "print(grad_t_list)"
   ]
  },
  {
   "cell_type": "markdown",
   "metadata": {},
   "source": [
    "\n",
    "\n",
    "\n",
    "now, we have a list of tensors, t-list. We can use it to find clipped tensors. <b>clip_by_global_norm</b> clips values of multiple tensors by the ratio of the sum of their norms.\n",
    "\n",
    "<b>clip_by_global_norm</b> get <i>t-list</i> as input and returns 2 things:\n",
    "<ul>\n",
    "    <li>a list of clipped tensors, so called <i>list_clipped</i></li> \n",
    "    <li>the global norm (global_norm) of all tensors in t_list</li> \n",
    "</ul>\n"
   ]
  },
  {
   "cell_type": "code",
   "execution_count": 67,
   "metadata": {},
   "outputs": [
    {
     "data": {
      "text/plain": [
       "[<tensorflow.python.framework.indexed_slices.IndexedSlices at 0x7f075cd191d0>,\n",
       " <tf.Tensor: shape=(200, 1024), dtype=float32, numpy=\n",
       " array([[-2.1979977e-07,  2.4726859e-07, -5.8536767e-07, ...,\n",
       "          1.4752864e-07, -4.1845794e-07,  5.6087508e-08],\n",
       "        [-1.1346275e-07,  6.9640987e-07,  1.9647456e-07, ...,\n",
       "          2.5588750e-07,  5.0928401e-07, -8.0127080e-08],\n",
       "        [ 5.2693633e-07, -2.3445384e-07,  4.1492717e-07, ...,\n",
       "         -2.1492566e-07,  1.1010993e-07, -5.8723515e-08],\n",
       "        ...,\n",
       "        [-9.2976308e-08, -3.9069758e-07,  5.1233451e-07, ...,\n",
       "         -3.5514660e-08,  2.9402290e-07,  3.2583799e-07],\n",
       "        [ 3.3491034e-07,  3.3951272e-07,  7.3853862e-08, ...,\n",
       "         -3.1619433e-07, -7.1509426e-08, -3.8543490e-08],\n",
       "        [ 1.0858756e-07, -2.9488777e-07, -3.6862892e-07, ...,\n",
       "          1.7173920e-07, -1.5665233e-07, -2.9099148e-08]], dtype=float32)>,\n",
       " <tf.Tensor: shape=(256, 1024), dtype=float32, numpy=\n",
       " array([[-1.78207927e-07,  3.80431402e-08, -9.26782988e-08, ...,\n",
       "         -8.99048018e-08, -1.01235734e-07,  1.05231763e-07],\n",
       "        [-5.78797312e-08,  2.54463970e-08,  1.84104337e-07, ...,\n",
       "          1.18445840e-07,  2.95544460e-08,  1.52822448e-08],\n",
       "        [ 1.26174257e-07,  7.13934725e-08, -3.40571162e-08, ...,\n",
       "         -4.93723391e-08,  6.26481196e-08, -1.02331107e-07],\n",
       "        ...,\n",
       "        [-3.16073638e-08, -2.35923316e-08,  4.80992384e-08, ...,\n",
       "          1.22505554e-07,  2.55630511e-07,  1.09397078e-07],\n",
       "        [ 7.31033367e-08, -1.53761107e-07,  1.11717242e-07, ...,\n",
       "         -3.01325713e-07,  1.61159306e-07, -1.24018158e-07],\n",
       "        [-8.99090296e-08, -6.53607586e-08, -7.58896945e-08, ...,\n",
       "         -1.47471084e-08,  1.11534234e-07,  2.22730705e-07]], dtype=float32)>,\n",
       " <tf.Tensor: shape=(1024,), dtype=float32, numpy=\n",
       " array([-2.2029681e-05, -5.3414478e-06,  1.0721504e-05, ...,\n",
       "         1.9131829e-05, -4.1202031e-05,  1.0768407e-05], dtype=float32)>,\n",
       " <tf.Tensor: shape=(256, 512), dtype=float32, numpy=\n",
       " array([[-7.2418516e-09, -1.7620836e-07, -6.8957007e-08, ...,\n",
       "          1.2796608e-07,  2.8425969e-08,  6.2657584e-08],\n",
       "        [ 6.1864085e-08,  5.3945975e-08, -1.6945869e-08, ...,\n",
       "          1.9448809e-07, -4.9970680e-07,  7.2851840e-08],\n",
       "        [-1.7436963e-07,  1.0785644e-07, -1.6790084e-07, ...,\n",
       "         -2.5335100e-07, -2.9934040e-07,  4.5732254e-08],\n",
       "        ...,\n",
       "        [ 6.4709539e-08,  1.3502348e-07,  3.7574516e-08, ...,\n",
       "         -1.6687710e-07, -1.7175648e-07, -1.3516440e-07],\n",
       "        [ 5.3848098e-08,  1.7038290e-07, -6.7803164e-08, ...,\n",
       "         -2.8776802e-07, -2.8887953e-07, -2.8166133e-07],\n",
       "        [-2.2854023e-07, -2.0952587e-07,  3.6181447e-08, ...,\n",
       "         -3.4262780e-07, -5.1483930e-08,  1.3282478e-07]], dtype=float32)>,\n",
       " <tf.Tensor: shape=(128, 512), dtype=float32, numpy=\n",
       " array([[ 2.69230497e-07, -7.58004077e-08, -2.47142697e-08, ...,\n",
       "         -8.63026060e-08, -1.84137036e-07, -5.88888689e-08],\n",
       "        [-1.91819424e-07,  7.02197838e-07, -7.89907233e-08, ...,\n",
       "          3.14993201e-07,  8.73188810e-09,  5.89577738e-08],\n",
       "        [-4.54649296e-08,  2.36877312e-07, -9.13602349e-08, ...,\n",
       "          1.11336718e-07, -1.02124247e-07, -1.69205130e-08],\n",
       "        ...,\n",
       "        [-3.78344467e-08,  8.72578170e-08, -1.01613855e-08, ...,\n",
       "          2.29089494e-08, -9.82040476e-08, -9.05275677e-09],\n",
       "        [ 6.12952675e-08,  1.16692263e-07,  7.61574057e-08, ...,\n",
       "          1.99274766e-08,  1.97179606e-09, -2.65877560e-08],\n",
       "        [-7.87076502e-08, -9.51105221e-08,  1.19970460e-08, ...,\n",
       "          3.36119292e-08,  1.05834630e-09,  4.31580780e-08]], dtype=float32)>,\n",
       " <tf.Tensor: shape=(512,), dtype=float32, numpy=\n",
       " array([-2.28091249e-05,  5.73458929e-05, -1.38822961e-05, -7.24298880e-05,\n",
       "        -1.05644749e-05, -1.86218240e-05, -1.99809165e-05, -3.27162670e-05,\n",
       "         4.43225435e-05,  6.62517341e-05,  3.39795006e-05, -4.92396703e-06,\n",
       "         9.24505275e-06,  5.78830259e-05, -3.17385930e-05,  2.19411104e-05,\n",
       "        -1.14491886e-05, -2.34849158e-05, -1.05007684e-05, -1.08335007e-05,\n",
       "        -9.69574921e-06,  1.44439364e-05,  8.82077074e-07,  7.68485916e-05,\n",
       "         2.69665761e-05,  9.04960962e-06,  6.08868431e-05, -1.00542056e-05,\n",
       "        -1.14814575e-05, -2.05669385e-05, -8.99506558e-05, -1.41566379e-05,\n",
       "        -6.03649860e-05,  3.95694624e-05, -1.12524913e-06,  9.80692403e-06,\n",
       "         2.75810944e-05, -3.84930609e-05,  5.79197113e-05,  2.65402177e-05,\n",
       "        -9.65951313e-06,  1.10343844e-05, -3.91980502e-05, -2.77243744e-05,\n",
       "         1.81553842e-05,  2.34161580e-05, -1.30266408e-05,  1.21519952e-06,\n",
       "        -4.62089229e-05, -4.21456316e-05,  1.38063924e-05,  1.16739684e-05,\n",
       "         1.34545935e-05,  5.43982151e-06, -6.55746117e-05,  4.92357503e-06,\n",
       "        -1.85316367e-07, -1.69856321e-06,  2.65723866e-05,  1.04043202e-05,\n",
       "        -1.65880683e-05,  2.66579991e-06, -2.46784675e-05,  2.07903577e-06,\n",
       "        -1.75568857e-06,  1.00550187e-06, -2.36352207e-07, -1.60554828e-06,\n",
       "        -1.84384771e-06,  5.58223928e-06, -1.33087724e-05,  1.42326980e-05,\n",
       "         3.23798231e-05, -9.71251429e-05,  2.09438676e-05, -7.40382256e-06,\n",
       "         2.73943187e-05,  1.43280486e-04, -2.14179727e-05, -1.76222056e-05,\n",
       "         3.45245371e-06, -3.30750709e-06,  4.57763890e-05,  6.45233467e-06,\n",
       "        -5.75158265e-06,  6.26757401e-06,  1.95127177e-06,  9.61660589e-06,\n",
       "         2.44576086e-06, -3.78522709e-05,  3.65455999e-05, -1.24298258e-05,\n",
       "        -1.55994294e-05,  8.95679659e-06, -5.65775481e-05,  3.27452617e-05,\n",
       "        -1.33853155e-05, -6.46158078e-05, -3.34025185e-06,  9.47129047e-06,\n",
       "        -3.83668012e-05, -2.33794235e-05,  2.51433903e-05, -5.68054429e-06,\n",
       "        -6.04235684e-05, -1.51531012e-05,  2.56472049e-07,  2.22011731e-05,\n",
       "        -8.93571705e-05,  1.04217397e-05,  1.86222751e-05,  1.61944772e-05,\n",
       "        -1.92395582e-05, -3.03599900e-05,  4.33320565e-05, -5.25490468e-05,\n",
       "         2.73006663e-07,  1.51616914e-05,  2.36900305e-05,  3.33770149e-05,\n",
       "         4.36449864e-06,  1.10748824e-05, -1.15877647e-05,  6.79014629e-05,\n",
       "         2.83308655e-05,  3.14104000e-05, -3.60098329e-06,  1.44619498e-05,\n",
       "        -6.94625051e-05,  1.01095175e-04, -2.59962835e-05, -8.80063308e-05,\n",
       "         1.23599839e-05, -1.24822136e-05, -5.11100916e-05, -3.84527448e-05,\n",
       "         5.30789184e-05,  5.96378159e-05,  3.57203535e-05, -2.53996295e-05,\n",
       "        -5.93749974e-07,  7.45836078e-05, -4.76030946e-05,  4.55540612e-05,\n",
       "         8.06427124e-06, -4.71214698e-05, -5.83168912e-06, -6.06624199e-05,\n",
       "         1.79724520e-05,  2.87789044e-05,  2.24090527e-05,  4.84668235e-05,\n",
       "         1.60554773e-05,  2.41429043e-05,  8.55540711e-05,  5.12527095e-07,\n",
       "        -2.02818774e-05, -4.03675876e-05, -1.61700256e-04, -3.93289520e-06,\n",
       "        -8.52825688e-05,  1.15778457e-05, -8.23916253e-06,  3.03022116e-05,\n",
       "         1.65324273e-05, -5.11839062e-05,  7.32307089e-05,  4.08131236e-05,\n",
       "         1.15885687e-05,  1.30975077e-05, -5.89494884e-05, -3.03774013e-05,\n",
       "         1.12076123e-05,  1.70159401e-05, -8.89915282e-06,  1.16657084e-05,\n",
       "        -6.01655775e-05, -5.96391765e-05,  9.89869295e-06,  1.37784991e-06,\n",
       "         1.14198483e-05,  3.36533340e-05, -9.05899142e-05,  8.12492635e-06,\n",
       "        -3.94237395e-06, -2.61171954e-06,  3.19648025e-05,  3.39277503e-05,\n",
       "        -1.55686685e-05,  1.39440363e-05, -2.29570596e-05, -2.51300407e-05,\n",
       "         6.90063462e-06,  1.67253893e-05, -7.19723448e-06,  1.29741984e-05,\n",
       "        -7.71009218e-06,  2.20300954e-05, -8.74271427e-06,  2.53963244e-05,\n",
       "         2.29753005e-05, -1.40442455e-04, -4.11347446e-06,  2.64957289e-05,\n",
       "         5.04482960e-05,  2.12725558e-04, -4.07379339e-05, -7.50825620e-06,\n",
       "         1.52854664e-05, -2.69276316e-05,  7.04809936e-05, -9.94464062e-06,\n",
       "        -1.97194549e-05,  1.50844535e-05,  4.22939047e-06,  1.78914997e-05,\n",
       "        -1.92194675e-05, -5.25159339e-05,  7.44588579e-06, -3.02037988e-05,\n",
       "        -2.50325902e-05, -2.42275055e-05, -8.49874414e-05,  6.28124399e-05,\n",
       "        -1.57309114e-05, -1.08380467e-04, -1.48502459e-05,  1.16234787e-05,\n",
       "        -7.51265397e-05, -2.90925527e-06,  3.74619121e-05, -3.67304638e-05,\n",
       "        -4.95790227e-05, -1.79691524e-05,  2.19356571e-06,  3.19482206e-05,\n",
       "        -1.15083814e-04,  3.18510210e-05,  1.06917832e-05,  1.30526578e-05,\n",
       "        -3.81799982e-05, -3.13131532e-05,  5.80979031e-05, -9.04036933e-05,\n",
       "        -1.33953745e-05,  5.47977870e-05,  1.90951905e-05,  4.91458559e-05,\n",
       "        -5.96871541e-06, -5.66836025e-06, -3.33237986e-05,  1.02463717e-04,\n",
       "         1.32130499e-05,  4.90106577e-05,  1.76872709e-05,  1.64998637e-05,\n",
       "         4.88316640e-03,  2.26926375e-02, -2.73369495e-02, -4.28944305e-02,\n",
       "        -1.42238652e-02, -3.10850888e-02, -4.67660464e-02,  1.53500699e-02,\n",
       "         1.74197722e-02, -3.39934081e-02, -2.60078278e-03,  8.34295712e-03,\n",
       "        -3.59858423e-02,  4.78185043e-02, -3.27348262e-02,  4.90759872e-02,\n",
       "        -1.12376586e-02,  1.45637449e-02,  4.81756404e-03,  4.46303398e-04,\n",
       "         4.12673652e-02, -1.36736482e-02,  4.05930448e-03, -4.11886200e-02,\n",
       "         6.69348612e-03,  1.51485093e-02, -1.06737390e-02,  5.33072762e-02,\n",
       "        -2.69105472e-02, -3.95407155e-02, -8.37713182e-02,  8.95356946e-03,\n",
       "        -2.14332696e-02,  6.73741288e-03,  3.97077687e-02, -8.87790043e-03,\n",
       "         3.22884619e-02, -2.19873376e-02, -2.71466896e-02,  3.60335922e-04,\n",
       "         1.10867918e-02, -3.62513214e-03, -5.66149391e-02, -1.00831985e-02,\n",
       "         2.16910075e-02, -4.49281279e-03,  5.63330622e-03, -1.92387886e-02,\n",
       "         3.48749012e-02,  2.44319290e-02,  1.16583603e-02, -2.81089311e-03,\n",
       "         1.00159831e-03,  3.69286463e-02,  2.22151950e-02, -1.80315748e-02,\n",
       "        -3.64582334e-03,  1.32160587e-02, -3.86832058e-02, -2.03064899e-03,\n",
       "         1.88192669e-02, -1.92979840e-03, -3.05683389e-02, -4.49802633e-03,\n",
       "         3.36398333e-02,  4.25930545e-02,  3.34838852e-02,  3.21164615e-02,\n",
       "        -9.00677871e-04,  1.83472447e-02, -1.46354185e-02, -2.38507986e-02,\n",
       "         1.53852273e-02,  7.29613304e-02,  2.85356995e-02,  2.20527127e-02,\n",
       "         2.45034136e-02, -6.68865144e-02,  8.54732702e-04,  2.02844068e-02,\n",
       "        -1.53896092e-02,  2.02674195e-02, -2.84109134e-02,  2.70382129e-02,\n",
       "         3.18875536e-02, -9.78473481e-03,  3.33137810e-04,  2.44310941e-03,\n",
       "        -4.16366383e-04, -5.30280396e-02, -6.28942102e-02, -1.07362214e-02,\n",
       "        -5.89202344e-03, -2.87328009e-03, -4.86918949e-02, -6.83310395e-03,\n",
       "        -9.93949920e-03, -3.43968123e-02,  5.08943107e-03,  2.07561031e-02,\n",
       "         3.42772380e-02,  1.50725115e-02,  1.99718624e-02, -8.87274370e-03,\n",
       "        -2.01837439e-02,  1.33863837e-02, -3.01021114e-02, -4.51479070e-02,\n",
       "         3.06795090e-02,  5.33720404e-02,  1.82668585e-02,  2.86552217e-02,\n",
       "         1.59397181e-02, -2.23781019e-02, -1.37385931e-02, -3.21105346e-02,\n",
       "        -9.15596448e-03, -2.78889127e-02,  2.13309005e-02, -1.92453824e-02,\n",
       "        -6.21542148e-03, -1.34843895e-02,  1.01674860e-02,  3.93448435e-02,\n",
       "         1.59563571e-02,  1.31716691e-02, -9.85164661e-03,  3.02026374e-03,\n",
       "        -2.30086625e-05,  6.16248581e-05, -1.39722197e-05, -7.58368988e-05,\n",
       "        -8.53748861e-06, -2.25515232e-05, -2.86691757e-05, -4.27955019e-05,\n",
       "         5.19989480e-05,  8.27118783e-05,  4.08281048e-05, -1.88717740e-06,\n",
       "         9.97638745e-06,  6.48085406e-05, -3.70744128e-05,  2.38931279e-05,\n",
       "        -1.56494389e-05, -3.37651945e-05, -1.57290451e-05, -1.86932557e-05,\n",
       "         8.15379281e-07,  1.16475876e-05,  1.38065152e-05,  8.04349766e-05,\n",
       "         3.05602807e-05,  6.51917526e-06,  6.18301929e-05,  5.09930032e-07,\n",
       "        -8.17648106e-06, -2.46276486e-05, -8.86650523e-05, -1.16936953e-05,\n",
       "        -6.41384540e-05,  3.88282278e-05,  9.82152415e-06,  1.02049689e-05,\n",
       "         2.96354992e-05, -5.07899276e-05,  6.33215241e-05,  2.73756123e-05,\n",
       "        -5.25304040e-06,  1.46202146e-05, -4.42031014e-05, -3.00227221e-05,\n",
       "         1.08338527e-05,  1.35185965e-05, -1.65343663e-05, -4.48673109e-06,\n",
       "        -5.21157053e-05, -5.07924706e-05,  1.63251370e-05,  1.21638004e-05,\n",
       "         2.11590741e-05,  1.82327676e-06, -6.09716808e-05,  6.50510037e-06,\n",
       "        -1.07167443e-05,  8.84418114e-07,  3.54347503e-05,  1.32614450e-05,\n",
       "        -1.69465347e-05,  1.03277671e-06, -2.90447788e-05,  7.82931966e-06,\n",
       "        -6.40104645e-06, -3.88416993e-07, -2.49136610e-06,  6.53338429e-06,\n",
       "        -2.99191061e-06,  1.30593426e-05, -7.54959183e-06,  1.58747534e-05,\n",
       "         4.42436867e-05, -1.14381015e-04,  1.67348899e-05, -2.98110899e-06,\n",
       "         3.44896143e-05,  1.66604237e-04, -2.52736791e-05, -2.18591485e-05,\n",
       "        -1.82235863e-06, -3.75170248e-06,  4.93506122e-05,  1.45758349e-07,\n",
       "        -1.34617767e-05,  2.61542800e-06,  1.49503649e-06,  1.31077431e-05,\n",
       "        -5.20559843e-06, -4.30257205e-05,  4.28189742e-05, -1.20972109e-05,\n",
       "        -1.52831290e-05,  4.01968828e-06, -5.97122416e-05,  3.35214027e-05,\n",
       "        -2.12877640e-05, -6.93904658e-05, -3.45779063e-06,  1.42462704e-06,\n",
       "        -5.30266261e-05, -2.71339959e-05,  2.42932310e-05, -1.10912988e-05,\n",
       "        -5.82316316e-05, -1.48526651e-05,  2.83286136e-06,  1.44743735e-05,\n",
       "        -1.05364001e-04,  1.46083130e-05,  1.48727613e-05,  9.69720804e-06,\n",
       "        -1.69908271e-05, -2.98623308e-05,  3.74797310e-05, -6.19108250e-05,\n",
       "        -1.00711623e-05,  1.41351375e-05,  1.32855212e-05,  4.15490686e-05,\n",
       "         6.08744631e-06,  3.38114182e-06, -7.91671118e-06,  7.90600097e-05,\n",
       "         2.62909671e-05,  3.52205461e-05, -4.19480148e-06,  2.04578082e-05],\n",
       "       dtype=float32)>,\n",
       " <tf.Tensor: shape=(128, 10000), dtype=float32, numpy=\n",
       " array([[ 1.3577308e-03,  1.9914252e-03, -4.0383084e-04, ...,\n",
       "         -1.8673659e-06, -1.8679656e-06, -1.8676114e-06],\n",
       "        [-3.8649575e-03, -5.2773589e-03, -3.8790978e-03, ...,\n",
       "          8.9151072e-06,  8.9192417e-06,  8.9210398e-06],\n",
       "        [-8.8244147e-04, -8.9695491e-04, -8.6960802e-04, ...,\n",
       "          1.7582440e-06,  1.7592082e-06,  1.7592876e-06],\n",
       "        ...,\n",
       "        [-1.4775544e-03, -1.6469753e-03, -1.4573982e-03, ...,\n",
       "          2.2475015e-06,  2.2487152e-06,  2.2477197e-06],\n",
       "        [-4.5633252e-04,  8.7226834e-04, -1.2208901e-04, ...,\n",
       "         -1.2279187e-06, -1.2286212e-06, -1.2299339e-06],\n",
       "        [-5.3421844e-04, -1.2852537e-04,  7.2900363e-04, ...,\n",
       "          7.8218864e-07,  7.8080768e-07,  7.8151720e-07]], dtype=float32)>,\n",
       " <tf.Tensor: shape=(10000,), dtype=float32, numpy=\n",
       " array([-0.797998  , -1.0313314 , -1.0313315 , ...,  0.00199916,\n",
       "         0.0019998 ,  0.0019996 ], dtype=float32)>]"
      ]
     },
     "execution_count": 67,
     "metadata": {},
     "output_type": "execute_result"
    }
   ],
   "source": [
    "# Define the gradient clipping threshold\n",
    "grads, _ = tf.clip_by_global_norm(grad_t_list, max_grad_norm)\n",
    "grads"
   ]
  },
  {
   "cell_type": "markdown",
   "metadata": {},
   "source": [
    "<h4> 4.Apply the optimizer to the variables/gradients tuple. </h4>\n"
   ]
  },
  {
   "cell_type": "code",
   "execution_count": 68,
   "metadata": {},
   "outputs": [],
   "source": [
    "# Create the training TensorFlow Operation through our optimizer\n",
    "train_op = optimizer.apply_gradients(zip(grads, tvars))"
   ]
  },
  {
   "cell_type": "markdown",
   "metadata": {},
   "source": [
    "<a id=\"ltsm\"></a>\n",
    "<h2>LSTM</h2>\n"
   ]
  },
  {
   "cell_type": "markdown",
   "metadata": {},
   "source": [
    "We learned how the model is build step by step. Noe, let's then create a Class that represents our model. This class needs a few things:\n",
    "<ul>\n",
    "    <li>We have to create the model in accordance with our defined hyperparameters</li>\n",
    "    <li>We have to create the LSTM cell structure and connect them with our RNN structure</li>\n",
    "    <li>We have to create the word embeddings and point them to the input data</li>\n",
    "    <li>We have to create the input structure for our RNN</li>\n",
    "    <li>We need to create a logistic structure to return the probability of our words</li>\n",
    "    <li>We need to create the loss and cost functions for our optimizer to work, and then create the optimizer</li>\n",
    "    <li>And finally, we need to create a training operation that can be run to actually train our model</li>\n",
    "</ul>\n"
   ]
  },
  {
   "cell_type": "code",
   "execution_count": 69,
   "metadata": {},
   "outputs": [],
   "source": [
    "class PTBModel(object):\n",
    "\n",
    "\n",
    "    def __init__(self):\n",
    "        ######################################\n",
    "        # Setting parameters for ease of use #\n",
    "        ######################################\n",
    "        self.batch_size = batch_size\n",
    "        self.num_steps = num_steps\n",
    "        self.hidden_size_l1 = hidden_size_l1\n",
    "        self.hidden_size_l2 = hidden_size_l2\n",
    "        self.vocab_size = vocab_size\n",
    "        self.embeding_vector_size = embeding_vector_size\n",
    "        # Create a variable for the learning rate\n",
    "        self._lr = 1.0\n",
    "        \n",
    "        ###############################################################################\n",
    "        # Initializing the model using keras Sequential API  #\n",
    "        ###############################################################################\n",
    "        \n",
    "        self._model = tf.keras.models.Sequential()\n",
    "        \n",
    "        ####################################################################\n",
    "        # Creating the word embeddings layer and adding it to the sequence #\n",
    "        ####################################################################\n",
    "        with tf.device(\"/cpu:0\"):\n",
    "            # Create the embeddings for our input data. Size is hidden size.\n",
    "            self._embedding_layer = tf.keras.layers.Embedding(self.vocab_size, self.embeding_vector_size,batch_input_shape=(self.batch_size, self.num_steps),trainable=True,name=\"embedding_vocab\")  #[10000x200]\n",
    "            self._model.add(self._embedding_layer)\n",
    "            \n",
    "\n",
    "        ##########################################################################\n",
    "        # Creating the LSTM cell structure and connect it with the RNN structure #\n",
    "        ##########################################################################\n",
    "        # Create the LSTM Cells. \n",
    "        # This creates only the structure for the LSTM and has to be associated with a RNN unit still.\n",
    "        # The argument  of LSTMCell is size of hidden layer, that is, the number of hidden units of the LSTM (inside A). \n",
    "        # LSTM cell processes one word at a time and computes probabilities of the possible continuations of the sentence.\n",
    "        lstm_cell_l1 = tf.keras.layers.LSTMCell(hidden_size_l1)\n",
    "        lstm_cell_l2 = tf.keras.layers.LSTMCell(hidden_size_l2)\n",
    "        \n",
    "\n",
    "        \n",
    "        # By taking in the LSTM cells as parameters, the StackedRNNCells function junctions the LSTM units to the RNN units.\n",
    "        # RNN cell composed sequentially of stacked simple cells.\n",
    "        stacked_lstm = tf.keras.layers.StackedRNNCells([lstm_cell_l1, lstm_cell_l2])\n",
    "\n",
    "\n",
    "        \n",
    "\n",
    "        ############################################\n",
    "        # Creating the input structure for our RNN #\n",
    "        ############################################\n",
    "        # Input structure is 20x[30x200]\n",
    "        # Considering each word is represended by a 200 dimentional vector, and we have 30 batchs, we create 30 word-vectors of size [30xx2000]\n",
    "        # The input structure is fed from the embeddings, which are filled in by the input data\n",
    "        # Feeding a batch of b sentences to a RNN:\n",
    "        # In step 1,  first word of each of the b sentences (in a batch) is input in parallel.  \n",
    "        # In step 2,  second word of each of the b sentences is input in parallel. \n",
    "        # The parallelism is only for efficiency.  \n",
    "        # Each sentence in a batch is handled in parallel, but the network sees one word of a sentence at a time and does the computations accordingly. \n",
    "        # All the computations involving the words of all sentences in a batch at a given time step are done in parallel. \n",
    "\n",
    "        ########################################################################################################\n",
    "        # Instantiating our RNN model and setting stateful to True to feed forward the state to the next layer #\n",
    "        ########################################################################################################\n",
    "        \n",
    "        self._RNNlayer  =  tf.keras.layers.RNN(stacked_lstm,[batch_size, num_steps],return_state=False,stateful=True,trainable=True)\n",
    "        \n",
    "        # Define the initial state, i.e., the model state for the very first data point\n",
    "        # It initialize the state of the LSTM memory. The memory state of the network is initialized with a vector of zeros and gets updated after reading each word.\n",
    "        self._initial_state = tf.Variable(tf.zeros([batch_size,embeding_vector_size]),trainable=False)\n",
    "        self._RNNlayer.inital_state = self._initial_state\n",
    "    \n",
    "        ############################################\n",
    "        # Adding RNN layer to keras sequential API #\n",
    "        ############################################        \n",
    "        self._model.add(self._RNNlayer)\n",
    "        \n",
    "        #self._model.add(tf.keras.layers.LSTM(hidden_size_l1,return_sequences=True,stateful=True))\n",
    "        #self._model.add(tf.keras.layers.LSTM(hidden_size_l2,return_sequences=True))\n",
    "        \n",
    "        \n",
    "        ####################################################################################################\n",
    "        # Instantiating a Dense layer that connects the output to the vocab_size  and adding layer to model#\n",
    "        ####################################################################################################\n",
    "        self._dense = tf.keras.layers.Dense(self.vocab_size)\n",
    "        self._model.add(self._dense)\n",
    " \n",
    "        \n",
    "        ####################################################################################################\n",
    "        # Adding softmax activation layer and deriving probability to each class and adding layer to model #\n",
    "        ####################################################################################################\n",
    "        self._activation = tf.keras.layers.Activation('softmax')\n",
    "        self._model.add(self._activation)\n",
    "\n",
    "        ##########################################################\n",
    "        # Instantiating the stochastic gradient decent optimizer #\n",
    "        ########################################################## \n",
    "        self._optimizer = tf.keras.optimizers.SGD(lr=self._lr, clipnorm=max_grad_norm)\n",
    "        \n",
    "        \n",
    "        ##############################################################################\n",
    "        # Compiling and summarizing the model stacked using the keras sequential API #\n",
    "        ##############################################################################\n",
    "        self._model.compile(loss=self.crossentropy, optimizer=self._optimizer)\n",
    "        self._model.summary()\n",
    "\n",
    "\n",
    "    def crossentropy(self,y_true, y_pred):\n",
    "        return tf.keras.losses.sparse_categorical_crossentropy(y_true, y_pred)\n",
    "\n",
    "    def train_batch(self,_input_data,_targets):\n",
    "        #################################################\n",
    "        # Creating the Training Operation for our Model #\n",
    "        #################################################\n",
    "        # Create a variable for the learning rate\n",
    "        self._lr = tf.Variable(0.0, trainable=False)\n",
    "        # Get all TensorFlow variables marked as \"trainable\" (i.e. all of them except _lr, which we just created)\n",
    "        tvars = self._model.trainable_variables\n",
    "        # Define the gradient clipping threshold\n",
    "        with tf.GradientTape() as tape:\n",
    "            # Forward pass.\n",
    "            output_words_prob = self._model(_input_data)\n",
    "            # Loss value for this batch.\n",
    "            loss  = self.crossentropy(_targets, output_words_prob)\n",
    "            # average across batch and reduce sum\n",
    "            cost = tf.reduce_sum(loss/ self.batch_size)\n",
    "        # Get gradients of loss wrt the trainable variables.\n",
    "        grad_t_list = tape.gradient(cost, tvars)\n",
    "        # Define the gradient clipping threshold\n",
    "        grads, _ = tf.clip_by_global_norm(grad_t_list, max_grad_norm)\n",
    "        # Create the training TensorFlow Operation through our optimizer\n",
    "        train_op = self._optimizer.apply_gradients(zip(grads, tvars))\n",
    "        return cost\n",
    "        \n",
    "    def test_batch(self,_input_data,_targets):\n",
    "        #################################################\n",
    "        # Creating the Testing Operation for our Model #\n",
    "        #################################################\n",
    "        output_words_prob = self._model(_input_data)\n",
    "        loss  = self.crossentropy(_targets, output_words_prob)\n",
    "        # average across batch and reduce sum\n",
    "        cost = tf.reduce_sum(loss/ self.batch_size)\n",
    "\n",
    "        return cost\n",
    "    @classmethod\n",
    "    def instance(cls) : \n",
    "        return PTBModel()"
   ]
  },
  {
   "cell_type": "markdown",
   "metadata": {},
   "source": [
    "With that, the actual structure of our Recurrent Neural Network with Long Short-Term Memory is finished. What remains for us to do is to actually create the methods to run through time -- that is, the <code>run_epoch</code> method to be run at each epoch and a <code>main</code> script which ties all of this together.\n",
    "\n",
    "What our <code>run_epoch</code> method should do is take our input data and feed it to the relevant operations. This will return at the very least the current result for the cost function.\n"
   ]
  },
  {
   "cell_type": "code",
   "execution_count": 70,
   "metadata": {},
   "outputs": [],
   "source": [
    "\n",
    "########################################################################################################################\n",
    "# run_one_epoch takes as parameters  the model instance, the data to be fed, training or testing mode and verbose info #\n",
    "########################################################################################################################\n",
    "def run_one_epoch(m, data,is_training=True,verbose=False):\n",
    "\n",
    "    #Define the epoch size based on the length of the data, batch size and the number of steps\n",
    "    epoch_size = ((len(data) // m.batch_size) - 1) // m.num_steps\n",
    "    start_time = time.time()\n",
    "    costs = 0.\n",
    "    iters = 0\n",
    "    \n",
    "    m._model.reset_states()\n",
    "    \n",
    "    #For each step and data point\n",
    "    for step, (x, y) in enumerate(ptb_iterator(data, m.batch_size, m.num_steps)):\n",
    "        \n",
    "        #Evaluate and return cost, state by running cost, final_state and the function passed as parameter\n",
    "        #y = tf.keras.utils.to_categorical(y, num_classes=vocab_size)\n",
    "        if is_training : \n",
    "            loss=  m.train_batch(x, y)\n",
    "        else :\n",
    "            loss = m.test_batch(x, y)\n",
    "                                   \n",
    "\n",
    "        #Add returned cost to costs (which keeps track of the total costs for this epoch)\n",
    "        costs += loss\n",
    "        \n",
    "        #Add number of steps to iteration counter\n",
    "        iters += m.num_steps\n",
    "\n",
    "        if verbose and step % (epoch_size // 10) == 10:\n",
    "            print(\"Itr %d of %d, perplexity: %.3f speed: %.0f wps\" % (step , epoch_size, np.exp(costs / iters), iters * m.batch_size / (time.time() - start_time)))\n",
    "        \n",
    "\n",
    "\n",
    "    # Returns the Perplexity rating for us to keep track of how the model is evolving\n",
    "    return np.exp(costs / iters)\n"
   ]
  },
  {
   "cell_type": "markdown",
   "metadata": {},
   "source": [
    "Now, we create the <code>main</code> method to tie everything together. The code here reads the data from the directory, using the <code>reader</code> helper module, and then trains and evaluates the model on both a testing and a validating subset of data.\n"
   ]
  },
  {
   "cell_type": "code",
   "execution_count": 71,
   "metadata": {},
   "outputs": [],
   "source": [
    "# Reads the data and separates it into training data, validation data and testing data\n",
    "raw_data = ptb_raw_data(data_dir)\n",
    "train_data, valid_data, test_data, _, _ = raw_data"
   ]
  },
  {
   "cell_type": "code",
   "execution_count": null,
   "metadata": {},
   "outputs": [
    {
     "name": "stdout",
     "output_type": "stream",
     "text": [
      "Model: \"sequential_1\"\n",
      "_________________________________________________________________\n",
      " Layer (type)                Output Shape              Param #   \n",
      "=================================================================\n",
      " embedding_vocab (Embedding)  (30, 20, 200)            2000000   \n",
      "                                                                 \n",
      " rnn_1 (RNN)                 (30, 20, 128)             671088    \n",
      "                                                                 \n",
      " dense_1 (Dense)             (30, 20, 10000)           1290000   \n",
      "                                                                 \n",
      " activation_1 (Activation)   (30, 20, 10000)           0         \n",
      "                                                                 \n",
      "=================================================================\n",
      "Total params: 3,961,088\n",
      "Trainable params: 3,955,088\n",
      "Non-trainable params: 6,000\n",
      "_________________________________________________________________\n",
      "Epoch 1 : Learning rate: 1.000\n",
      "Itr 10 of 1549, perplexity: 4334.978 speed: 1050 wps\n",
      "Itr 164 of 1549, perplexity: 1100.958 speed: 1165 wps\n"
     ]
    }
   ],
   "source": [
    "# Instantiates the PTBModel class\n",
    "m=PTBModel.instance()   \n",
    "K = tf.keras.backend \n",
    "for i in range(max_epoch):\n",
    "    # Define the decay for this epoch\n",
    "    lr_decay = decay ** max(i - max_epoch_decay_lr, 0.0)\n",
    "    dcr = learning_rate * lr_decay\n",
    "    m._lr = dcr\n",
    "    K.set_value(m._model.optimizer.learning_rate,m._lr)\n",
    "    print(\"Epoch %d : Learning rate: %.3f\" % (i + 1, m._model.optimizer.learning_rate))\n",
    "    # Run the loop for this epoch in the training mode\n",
    "    train_perplexity = run_one_epoch(m, train_data,is_training=True,verbose=True)\n",
    "    print(\"Epoch %d : Train Perplexity: %.3f\" % (i + 1, train_perplexity))\n",
    "        \n",
    "    # Run the loop for this epoch in the validation mode\n",
    "    valid_perplexity = run_one_epoch(m, valid_data,is_training=False,verbose=False)\n",
    "    print(\"Epoch %d : Valid Perplexity: %.3f\" % (i + 1, valid_perplexity))\n",
    "    \n",
    "# Run the loop in the testing mode to see how effective was our training\n",
    "test_perplexity = run_one_epoch(m, test_data,is_training=False,verbose=False)\n",
    "print(\"Test Perplexity: %.3f\" % test_perplexity)\n",
    "\n"
   ]
  },
  {
   "cell_type": "markdown",
   "metadata": {},
   "source": [
    "As you can see, the model's perplexity rating drops very quickly after a few iterations. As was elaborated before, <b>lower Perplexity means that the model is more certain about its prediction</b>. As such, we can be sure that this model is performing well!\n"
   ]
  },
  {
   "cell_type": "markdown",
   "metadata": {},
   "source": [
    "-------\n"
   ]
  },
  {
   "cell_type": "markdown",
   "metadata": {},
   "source": [
    "This is the end of the <b>Applying Recurrent Neural Networks to Text Processing</b> notebook. Hopefully you now have a better understanding of Recurrent Neural Networks and how to implement one utilizing TensorFlow. Thank you for reading this notebook, and good luck on your studies.\n"
   ]
  },
  {
   "cell_type": "markdown",
   "metadata": {},
   "source": [
    "## Want to learn more?\n",
    "\n",
    "Also, you can use __Watson Studio__ to run these notebooks faster with bigger datasets.__Watson Studio__ is IBM’s leading cloud solution for data scientists, built by data scientists. With Jupyter notebooks, RStudio, Apache Spark and popular libraries pre-packaged in the cloud, __Watson Studio__ enables data scientists to collaborate on their projects without having to install anything. Join the fast-growing community of __Watson Studio__ users today with a free account at [Watson Studio](https://cocl.us/ML0120EN_DSX).This is the end of this lesson. Thank you for reading this notebook, and good luck on your studies.\n"
   ]
  },
  {
   "cell_type": "markdown",
   "metadata": {},
   "source": [
    "### Thanks for completing this lesson!\n",
    "\n",
    "Notebook created by <a href=\"https://br.linkedin.com/in/walter-gomes-de-amorim-junior-624726121?utm_medium=Exinfluencer&utm_source=Exinfluencer&utm_content=000026UJ&utm_term=10006555&utm_id=NA-SkillsNetwork-Channel-SkillsNetworkCoursesIBMDeveloperSkillsNetworkDL0120ENSkillsNetwork954-2023-01-01\">Walter Gomes de Amorim Junior</a>, <a href = \"https://linkedin.com/in/saeedaghabozorgi\"> Saeed Aghabozorgi </a></h4>\n",
    "\n",
    "\n",
    "Updated to TF 2.X by  <a href=\"https://www.linkedin.com/in/samaya-madhavan?utm_medium=Exinfluencer&utm_source=Exinfluencer&utm_content=000026UJ&utm_term=10006555&utm_id=NA-SkillsNetwork-Channel-SkillsNetworkCoursesIBMDeveloperSkillsNetworkDL0120ENSkillsNetwork954-2023-01-01\"> Samaya Madhavan </a>\n"
   ]
  },
  {
   "cell_type": "markdown",
   "metadata": {},
   "source": [
    "<hr>\n",
    "\n",
    "Copyright &copy; 2018 [Cognitive Class](https://cocl.us/DX0108EN_CC). This notebook and its source code are released under the terms of the [MIT License](https://bigdatauniversity.com/mit-license/?utm_medium=Exinfluencer&utm_source=Exinfluencer&utm_content=000026UJ&utm_term=10006555&utm_id=NA-SkillsNetwork-Channel-SkillsNetworkCoursesIBMDeveloperSkillsNetworkDL0120ENSkillsNetwork954-2023-01-01).\n"
   ]
  }
 ],
 "metadata": {
  "kernelspec": {
   "display_name": "Python",
   "language": "python",
   "name": "conda-env-python-py"
  },
  "language_info": {
   "codemirror_mode": {
    "name": "ipython",
    "version": 3
   },
   "file_extension": ".py",
   "mimetype": "text/x-python",
   "name": "python",
   "nbconvert_exporter": "python",
   "pygments_lexer": "ipython3",
   "version": "3.7.12"
  }
 },
 "nbformat": 4,
 "nbformat_minor": 4
}
